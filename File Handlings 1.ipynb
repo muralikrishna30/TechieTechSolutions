{
 "cells": [
  {
   "cell_type": "markdown",
   "id": "b03a978a",
   "metadata": {},
   "source": [
    "# Files Handling"
   ]
  },
  {
   "cell_type": "code",
   "execution_count": 1,
   "id": "c645f0f3",
   "metadata": {},
   "outputs": [
    {
     "name": "stdout",
     "output_type": "stream",
     "text": [
      "File Name :  abc1.txt\n",
      "File mode :  x\n",
      "File closed ? False\n",
      "File readable ? False\n",
      "File writable ? True\n"
     ]
    }
   ],
   "source": [
    "f = open('abc1.txt','x')\n",
    "print(\"File Name : \", f.name)\n",
    "print(\"File mode : \", f.mode)\n",
    "print(\"File closed ?\", f.closed)\n",
    "print(\"File readable ?\", f.readable())\n",
    "print(\"File writable ?\", f.writable())\n",
    "f.close()"
   ]
  },
  {
   "cell_type": "code",
   "execution_count": 2,
   "id": "a241c3d9",
   "metadata": {},
   "outputs": [
    {
     "name": "stdout",
     "output_type": "stream",
     "text": [
      "File Name :  abc1.txt\n",
      "File mode :  r\n",
      "File closed ? False\n",
      "File readable ? True\n",
      "File writable ? False\n"
     ]
    }
   ],
   "source": [
    "f = open('abc1.txt','r')\n",
    "print(\"File Name : \", f.name)\n",
    "print(\"File mode : \", f.mode)\n",
    "print(\"File closed ?\", f.closed)\n",
    "print(\"File readable ?\", f.readable())\n",
    "print(\"File writable ?\", f.writable())\n",
    "f.close()"
   ]
  },
  {
   "cell_type": "code",
   "execution_count": 3,
   "id": "91a6dcea",
   "metadata": {},
   "outputs": [
    {
     "name": "stdout",
     "output_type": "stream",
     "text": [
      "File Name :  abc1.txt\n",
      "File mode :  w\n",
      "File closed ? False\n",
      "File readable ? False\n",
      "File writable ? True\n"
     ]
    }
   ],
   "source": [
    "f = open('abc1.txt','w')\n",
    "print(\"File Name : \", f.name)\n",
    "print(\"File mode : \", f.mode)\n",
    "print(\"File closed ?\", f.closed)\n",
    "print(\"File readable ?\", f.readable())\n",
    "print(\"File writable ?\", f.writable())\n",
    "f.close()"
   ]
  },
  {
   "cell_type": "code",
   "execution_count": 4,
   "id": "5a468cef",
   "metadata": {},
   "outputs": [
    {
     "name": "stdout",
     "output_type": "stream",
     "text": [
      "File Closed? True\n"
     ]
    }
   ],
   "source": [
    "print(\"File Closed?\", f.closed)"
   ]
  },
  {
   "cell_type": "code",
   "execution_count": 5,
   "id": "518c26ad",
   "metadata": {},
   "outputs": [
    {
     "name": "stdout",
     "output_type": "stream",
     "text": [
      "File Name :  abc1.txt\n",
      "File mode :  r\n",
      "File closed ? False\n",
      "File readable ? True\n",
      "File writable ? False\n"
     ]
    }
   ],
   "source": [
    "f = open('abc1.txt')\n",
    "print(\"File Name : \", f.name)\n",
    "print(\"File mode : \", f.mode)\n",
    "print(\"File closed ?\", f.closed)\n",
    "print(\"File readable ?\", f.readable())\n",
    "print(\"File writable ?\", f.writable())\n",
    "f.close()"
   ]
  },
  {
   "cell_type": "code",
   "execution_count": 6,
   "id": "6d2fcfdf",
   "metadata": {},
   "outputs": [
    {
     "name": "stdout",
     "output_type": "stream",
     "text": [
      "File Name :  abc1.txt\n",
      "File mode :  r\n",
      "File closed ? False\n",
      "File readable ? True\n",
      "File writable ? False\n"
     ]
    }
   ],
   "source": [
    "f = open('abc1.txt','r')\n",
    "print(\"File Name : \", f.name)\n",
    "print(\"File mode : \", f.mode)\n",
    "print(\"File closed ?\", f.closed)\n",
    "print(\"File readable ?\", f.readable())\n",
    "print(\"File writable ?\", f.writable())\n",
    "f.close()"
   ]
  },
  {
   "cell_type": "code",
   "execution_count": 7,
   "id": "2d6e3b18",
   "metadata": {},
   "outputs": [
    {
     "name": "stdout",
     "output_type": "stream",
     "text": [
      "File Name :  abc1.txt\n",
      "File mode :  w\n",
      "File closed ? False\n",
      "File readable ? False\n",
      "File writable ? True\n"
     ]
    }
   ],
   "source": [
    "f = open('abc1.txt','w')\n",
    "print(\"File Name : \", f.name)\n",
    "print(\"File mode : \", f.mode)\n",
    "print(\"File closed ?\", f.closed)\n",
    "print(\"File readable ?\", f.readable())\n",
    "print(\"File writable ?\", f.writable())\n",
    "f.close()"
   ]
  },
  {
   "cell_type": "code",
   "execution_count": 8,
   "id": "1f9422f2",
   "metadata": {},
   "outputs": [
    {
     "name": "stdout",
     "output_type": "stream",
     "text": [
      "File Name :  abc1.txt\n",
      "File mode :  a\n",
      "File closed ? False\n",
      "File readable ? False\n",
      "File writable ? True\n"
     ]
    }
   ],
   "source": [
    "f = open('abc1.txt','a')\n",
    "print(\"File Name : \", f.name)\n",
    "print(\"File mode : \", f.mode)\n",
    "print(\"File closed ?\", f.closed)\n",
    "print(\"File readable ?\", f.readable())\n",
    "print(\"File writable ?\", f.writable())\n",
    "f.close()"
   ]
  },
  {
   "cell_type": "code",
   "execution_count": 9,
   "id": "eff32d46",
   "metadata": {},
   "outputs": [
    {
     "name": "stdout",
     "output_type": "stream",
     "text": [
      "File Name :  abc1.txt\n",
      "File mode :  r+\n",
      "File closed ? False\n",
      "File readable ? True\n",
      "File writable ? True\n"
     ]
    }
   ],
   "source": [
    "f = open('abc1.txt','r+')\n",
    "print(\"File Name : \", f.name)\n",
    "print(\"File mode : \", f.mode)\n",
    "print(\"File closed ?\", f.closed)\n",
    "print(\"File readable ?\", f.readable())\n",
    "print(\"File writable ?\", f.writable())\n",
    "f.close()"
   ]
  },
  {
   "cell_type": "code",
   "execution_count": 10,
   "id": "ca76332a",
   "metadata": {},
   "outputs": [
    {
     "name": "stdout",
     "output_type": "stream",
     "text": [
      "File Name :  abc1.txt\n",
      "File mode :  w+\n",
      "File closed ? False\n",
      "File readable ? True\n",
      "File writable ? True\n"
     ]
    }
   ],
   "source": [
    "f = open('abc1.txt','w+')\n",
    "print(\"File Name : \", f.name)\n",
    "print(\"File mode : \", f.mode)\n",
    "print(\"File closed ?\", f.closed)\n",
    "print(\"File readable ?\", f.readable())\n",
    "print(\"File writable ?\", f.writable())\n",
    "f.close()"
   ]
  },
  {
   "cell_type": "code",
   "execution_count": 11,
   "id": "c5b25c7d",
   "metadata": {},
   "outputs": [
    {
     "name": "stdout",
     "output_type": "stream",
     "text": [
      "File Name :  abc1.txt\n",
      "File mode :  a+\n",
      "File closed ? False\n",
      "File readable ? True\n",
      "File writable ? True\n"
     ]
    }
   ],
   "source": [
    "f = open('abc1.txt','a+')\n",
    "print(\"File Name : \", f.name)\n",
    "print(\"File mode : \", f.mode)\n",
    "print(\"File closed ?\", f.closed)\n",
    "print(\"File readable ?\", f.readable())\n",
    "print(\"File writable ?\", f.writable())\n",
    "f.close()"
   ]
  },
  {
   "cell_type": "code",
   "execution_count": 12,
   "id": "62f9411b",
   "metadata": {},
   "outputs": [
    {
     "name": "stdout",
     "output_type": "stream",
     "text": [
      "File Name :  abc2.txt\n",
      "File mode :  x\n",
      "File closed ? False\n",
      "File readable ? False\n",
      "File writable ? True\n"
     ]
    }
   ],
   "source": [
    "f = open('abc2.txt','x')\n",
    "print(\"File Name : \", f.name)\n",
    "print(\"File mode : \", f.mode)\n",
    "print(\"File closed ?\", f.closed)\n",
    "print(\"File readable ?\", f.readable())\n",
    "print(\"File writable ?\", f.writable())\n",
    "f.close()"
   ]
  },
  {
   "cell_type": "code",
   "execution_count": 13,
   "id": "a9959b9e",
   "metadata": {},
   "outputs": [],
   "source": [
    "f = open('Reference Count.doc','a')\n",
    "f.write('Techie')\n",
    "f.write(' Tech : \\n')\n",
    "f.write(' TechieTech Pvt Ltd\\n')\n",
    "f.write(' techietech30@gmail.com\\n\\n')\n",
    "l = ('a\\n','b\\n','c\\n','d\\n','e\\n')\n",
    "f.writelines(l[1])\n",
    "f.close()"
   ]
  },
  {
   "cell_type": "code",
   "execution_count": 14,
   "id": "d4d9f37d",
   "metadata": {},
   "outputs": [],
   "source": [
    "f = open('Reference Count1.doc','a')\n",
    "f.write('Techie')\n",
    "f.write(' Tech : \\n')\n",
    "f.write(' TechieTech Pvt Ltd\\n')\n",
    "f.write(' techietech30@gmail.com\\n\\n')\n",
    "l = ('a\\n','b\\n','c\\n','d\\n','e\\n')\n",
    "f.writelines(l[1])\n",
    "f.close()"
   ]
  },
  {
   "cell_type": "code",
   "execution_count": 16,
   "id": "0382f4d5",
   "metadata": {},
   "outputs": [
    {
     "name": "stdout",
     "output_type": "stream",
     "text": [
      "Enter File Name: mk.doc\n",
      "Enter Your Requireed Data : 4\n"
     ]
    }
   ],
   "source": [
    "fname = input(\"Enter File Name: \")\n",
    "f = open('F:\\\\fileess\\\\'+fname, 'w')\n",
    "data = input(\"Enter Your Requireed Data : \")\n",
    "f.write(data)\n",
    "f.close()"
   ]
  },
  {
   "cell_type": "code",
   "execution_count": 17,
   "id": "d9630cdb",
   "metadata": {},
   "outputs": [
    {
     "name": "stdout",
     "output_type": "stream",
     "text": [
      "4\n"
     ]
    }
   ],
   "source": [
    "f = open('F:\\\\fileess\\\\mk.doc')\n",
    "data = f.read()\n",
    "print(data)\n",
    "f.close()"
   ]
  },
  {
   "cell_type": "code",
   "execution_count": 18,
   "id": "a87b1ab1",
   "metadata": {},
   "outputs": [
    {
     "name": "stdout",
     "output_type": "stream",
     "text": [
      "4\n"
     ]
    }
   ],
   "source": [
    "f = open('F:\\\\fileess\\\\mk.doc')\n",
    "data = f.read(20)\n",
    "print(data)\n",
    "f.close()"
   ]
  },
  {
   "cell_type": "code",
   "execution_count": 19,
   "id": "9b7027f0",
   "metadata": {},
   "outputs": [],
   "source": [
    "f = open('Reference Count2.doc','a')\n",
    "f.write('Techie')\n",
    "f.write(' Tech : \\n')\n",
    "f.write(' TechieTech Pvt Ltd\\n\\n')\n",
    "l = {'a\\n','b\\n','c\\n','d\\n','e\\n'}\n",
    "f.writelines(l)\n",
    "f.close()"
   ]
  },
  {
   "cell_type": "code",
   "execution_count": 20,
   "id": "535da632",
   "metadata": {},
   "outputs": [
    {
     "name": "stdout",
     "output_type": "stream",
     "text": [
      "Enter the Number of Elements to be Stored in the List : 4\n",
      "\n",
      "Enter the Element to store in the List : 222\n",
      "Enter the Element to store in the List : 3333\n",
      "Enter the Element to store in the List : 44444\n",
      "Enter the Element to store in the List : 555555\n",
      "\n",
      "The List Stored with data is : ['222', '3333', '44444', '555555']\n",
      "\n",
      "Enter the name of the File to store data : mk.doc\n",
      "\n",
      "Enter the Name of the same file to See the Contents : mk.doc\n",
      "\n",
      "The list containing Elements is:  222333344444555555\n"
     ]
    }
   ],
   "source": [
    "n = int(input(\"Enter the Number of Elements to be Stored in the List : \"))\n",
    "l = []\n",
    "print()\n",
    "for i in range(n):\n",
    "    a = input(\"Enter the Element to store in the List : \")\n",
    "    l.append(a)\n",
    "\n",
    "print(\"\\nThe List Stored with data is :\", l)\n",
    "fname = input('\\nEnter the name of the File to store data : ')\n",
    "f = open ('F:\\\\fileess\\\\'+fname, 'w')\n",
    "f.writelines(l)\n",
    "f.close()\n",
    "fname = input('\\nEnter the Name of the same file to See the Contents : ')\n",
    "f = open('F:\\\\fileess\\\\'+fname)\n",
    "data = f.read()\n",
    "print(\"\\nThe list containing Elements is: \", data)\n",
    "f.close()"
   ]
  },
  {
   "cell_type": "code",
   "execution_count": 21,
   "id": "c1433b94",
   "metadata": {},
   "outputs": [
    {
     "name": "stdout",
     "output_type": "stream",
     "text": [
      "Techie Tech : \n",
      " TechieTech Pvt Ltd\n",
      "\n",
      "c\n",
      "d\n",
      "e\n"
     ]
    }
   ],
   "source": [
    "f = open('Reference Count3.doc','a')\n",
    "f.write('Techie')\n",
    "f.write(' Tech : \\n')\n",
    "f.write(' TechieTech Pvt Ltd\\n\\n')\n",
    "l = {'a\\n','b\\n','c\\n','d\\n','e\\n'}\n",
    "f.writelines(l)\n",
    "f.close()\n",
    "f = open('Reference Count3.doc')\n",
    "line = f.readline()\n",
    "print(line, end = '')\n",
    "line = f.readline()\n",
    "print(line, end = '')\n",
    "line = f.readline()\n",
    "print(line, end = '')\n",
    "line = f.readline()\n",
    "print(line, end = '')\n",
    "line = f.readline()\n",
    "print(line, end = '')\n",
    "line = f.readline()\n",
    "print(line, end = '')"
   ]
  },
  {
   "cell_type": "code",
   "execution_count": 22,
   "id": "6ef9f57e",
   "metadata": {},
   "outputs": [],
   "source": [
    "f = open('Reference Count2.doc','a')\n",
    "f.write('Techie')\n",
    "f.write(' Tech : \\n')\n",
    "f.write(' TechieTech Pvt Ltd\\n\\n')\n",
    "l = {'a\\n','b\\n','c\\n','d\\n','e\\n'}\n",
    "f.writelines(l)\n",
    "f.close()"
   ]
  },
  {
   "cell_type": "code",
   "execution_count": 23,
   "id": "5f1d315c",
   "metadata": {},
   "outputs": [
    {
     "name": "stdout",
     "output_type": "stream",
     "text": [
      "Techie Tech : \n",
      " TechieTech Pvt Ltd\n",
      "\n",
      "c\n",
      "d\n",
      "e\n",
      "b\n",
      "a\n",
      "Techie Tech : \n",
      " TechieTech Pvt Ltd\n",
      "\n",
      "c\n",
      "d\n",
      "e\n",
      "b\n",
      "a\n"
     ]
    }
   ],
   "source": [
    "f = open('Reference Count2.doc')\n",
    "lines = f.readlines()\n",
    "for line in lines:\n",
    "    print(line, end = '')"
   ]
  },
  {
   "cell_type": "code",
   "execution_count": 24,
   "id": "014222ef",
   "metadata": {},
   "outputs": [
    {
     "name": "stdout",
     "output_type": "stream",
     "text": [
      "Enter the Number of Mobile Numbers to be stored in the List : 4\n",
      "\n",
      "Enter the Mobile Number to store in the List : 22222\n",
      "Enter the Mobile Number to store in the List : 33333\n",
      "Enter the Mobile Number to store in the List : 44444\n",
      "Enter the Mobile Number to store in the List : 55555\n",
      "\n",
      "The Mobile Numbers are:  ['22222', '33333', '44444', '55555']\n",
      "\n",
      "Enter the name of the File to store Mobile Numbers : mobile.doc\n",
      "\n",
      "Enter the Name of the same file to See the Mobile Numbers : mobile.doc\n",
      "\n",
      "The list containing Mobile Numbers are :  22222333334444455555\n"
     ]
    }
   ],
   "source": [
    "n = int(input(\"Enter the Number of Mobile Numbers to be stored in the List : \"))\n",
    "l = []\n",
    "print()\n",
    "for i in range(n):\n",
    "    a = input(\"Enter the Mobile Number to store in the List : \")\n",
    "    l.append(a)\n",
    "\n",
    "print(\"\\nThe Mobile Numbers are: \", l)\n",
    "fname = input('\\nEnter the name of the File to store Mobile Numbers : ')\n",
    "f = open ('F:\\\\fileess\\\\'+fname, 'w')\n",
    "f.writelines(l)\n",
    "f.close()\n",
    "fname = input('\\nEnter the Name of the same file to See the Mobile Numbers : ')\n",
    "f = open('F:\\\\fileess\\\\'+fname)\n",
    "data = f.read()\n",
    "print(\"\\nThe list containing Mobile Numbers are : \", data)\n",
    "f.close()"
   ]
  },
  {
   "cell_type": "code",
   "execution_count": 25,
   "id": "0676890d",
   "metadata": {},
   "outputs": [
    {
     "name": "stdout",
     "output_type": "stream",
     "text": [
      "Techie Tech : \n",
      " TechieTech Pvt Ltd\n",
      " techietech30@gmail.com\n",
      "\n",
      "b\n",
      "\n"
     ]
    }
   ],
   "source": [
    "f1=open('Reference Count.doc')\n",
    "f2=open('Reference Count1.doc','w')\n",
    "f2.write(f1.read())\n",
    "f1.close()\n",
    "f2.close()\n",
    "f2 = open('Reference Count1.doc')\n",
    "print(f2.read())"
   ]
  }
 ],
 "metadata": {
  "kernelspec": {
   "display_name": "Python 3",
   "language": "python",
   "name": "python3"
  },
  "language_info": {
   "codemirror_mode": {
    "name": "ipython",
    "version": 3
   },
   "file_extension": ".py",
   "mimetype": "text/x-python",
   "name": "python",
   "nbconvert_exporter": "python",
   "pygments_lexer": "ipython3",
   "version": "3.8.8"
  }
 },
 "nbformat": 4,
 "nbformat_minor": 5
}
