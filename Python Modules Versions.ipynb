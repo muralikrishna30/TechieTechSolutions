{
 "cells": [
  {
   "cell_type": "code",
   "execution_count": 26,
   "id": "d4b6cc85",
   "metadata": {},
   "outputs": [
    {
     "name": "stdout",
     "output_type": "stream",
     "text": [
      "Welcome to Python programming !\n"
     ]
    }
   ],
   "source": [
    "print(\"Welcome to Python programming !\")"
   ]
  },
  {
   "cell_type": "code",
   "execution_count": 27,
   "id": "8910e261",
   "metadata": {},
   "outputs": [
    {
     "data": {
      "text/plain": [
       "'3.8.8'"
      ]
     },
     "execution_count": 27,
     "metadata": {},
     "output_type": "execute_result"
    }
   ],
   "source": [
    "from platform import python_version\n",
    "python_version()"
   ]
  },
  {
   "cell_type": "code",
   "execution_count": 1,
   "id": "fa560b64",
   "metadata": {},
   "outputs": [
    {
     "data": {
      "text/plain": [
       "8.6"
      ]
     },
     "execution_count": 1,
     "metadata": {},
     "output_type": "execute_result"
    }
   ],
   "source": [
    "import tkinter\n",
    "tkinter.TkVersion"
   ]
  },
  {
   "cell_type": "code",
   "execution_count": 28,
   "id": "4a46b304",
   "metadata": {},
   "outputs": [
    {
     "name": "stdout",
     "output_type": "stream",
     "text": [
      "3.8.8\n"
     ]
    }
   ],
   "source": [
    "import platform\n",
    "print(platform.python_version())"
   ]
  },
  {
   "cell_type": "code",
   "execution_count": 29,
   "id": "1d12a3f7",
   "metadata": {},
   "outputs": [
    {
     "name": "stdout",
     "output_type": "stream",
     "text": [
      "3.8.8 (default, Apr 13 2021, 15:08:03) [MSC v.1916 64 bit (AMD64)]\n"
     ]
    }
   ],
   "source": [
    "import sys\n",
    "print(sys.version)"
   ]
  },
  {
   "cell_type": "code",
   "execution_count": 30,
   "id": "59aab7a7",
   "metadata": {},
   "outputs": [
    {
     "name": "stdout",
     "output_type": "stream",
     "text": [
      "Python 3.8.8\n"
     ]
    }
   ],
   "source": [
    "!python --version"
   ]
  },
  {
   "cell_type": "code",
   "execution_count": 31,
   "id": "1e0340f6",
   "metadata": {},
   "outputs": [
    {
     "name": "stdout",
     "output_type": "stream",
     "text": [
      "jupyter core     : 4.7.1\n",
      "jupyter-notebook : 6.3.0\n",
      "qtconsole        : 5.0.3\n",
      "ipython          : 7.22.0\n",
      "ipykernel        : 5.3.4\n",
      "jupyter client   : 6.1.12\n",
      "jupyter lab      : 3.0.14\n",
      "nbconvert        : 6.0.7\n",
      "ipywidgets       : 7.6.3\n",
      "nbformat         : 5.1.3\n",
      "traitlets        : 5.0.5\n"
     ]
    }
   ],
   "source": [
    "!jupyter --version"
   ]
  },
  {
   "cell_type": "code",
   "execution_count": 32,
   "id": "8fda8bc3",
   "metadata": {},
   "outputs": [
    {
     "data": {
      "text/plain": [
       "{'jupyter core': '4.6.0',\n",
       " 'jupyter-notebook': '6.0.1',\n",
       " 'qtconsole': '4.7.5',\n",
       " 'ipython': '7.8.0',\n",
       " 'ipykernel': '5.1.3',\n",
       " 'jupyter client': '5.3.4',\n",
       " 'jupyter lab': 'not installed',\n",
       " 'nbconvert': '5.6.0',\n",
       " 'ipywidgets': '7.5.1',\n",
       " 'nbformat': '4.4.0',\n",
       " 'traitlets': '4.3.3'}"
      ]
     },
     "execution_count": 32,
     "metadata": {},
     "output_type": "execute_result"
    }
   ],
   "source": [
    "import subprocess\n",
    "versions = subprocess.check_output([\"jupyter\", \"--version\"]).decode().split('\\n')\n",
    "parsed_versions = {}\n",
    "for component in versions:\n",
    "    if component == \"\":\n",
    "        continue\n",
    "    comps = list(map(str.strip, component.split(': ')))\n",
    "    parsed_versions[comps[0]] = comps[1]\n",
    "{\n",
    "    \"jupyter core\": \"4.6.0\",\n",
    "    \"jupyter-notebook\": \"6.0.1\",\n",
    "    \"qtconsole\": \"4.7.5\",\n",
    "    \"ipython\": \"7.8.0\",\n",
    "    \"ipykernel\": \"5.1.3\",\n",
    "    \"jupyter client\": \"5.3.4\",\n",
    "    \"jupyter lab\": \"not installed\",\n",
    "    \"nbconvert\": \"5.6.0\",\n",
    "    \"ipywidgets\": \"7.5.1\",\n",
    "    \"nbformat\": \"4.4.0\",\n",
    "    \"traitlets\": \"4.3.3\"\n",
    "}"
   ]
  },
  {
   "cell_type": "code",
   "execution_count": 33,
   "id": "464b53c9",
   "metadata": {},
   "outputs": [
    {
     "data": {
      "text/plain": [
       "'1.2.4'"
      ]
     },
     "execution_count": 33,
     "metadata": {},
     "output_type": "execute_result"
    }
   ],
   "source": [
    "import pandas as pd\n",
    "pd.__version__"
   ]
  },
  {
   "cell_type": "code",
   "execution_count": 1,
   "id": "7cc27da5",
   "metadata": {},
   "outputs": [
    {
     "data": {
      "text/plain": [
       "'1.20.1'"
      ]
     },
     "execution_count": 1,
     "metadata": {},
     "output_type": "execute_result"
    }
   ],
   "source": [
    "import numpy as np\n",
    "np.__version__"
   ]
  }
 ],
 "metadata": {
  "kernelspec": {
   "display_name": "Python 3",
   "language": "python",
   "name": "python3"
  },
  "language_info": {
   "codemirror_mode": {
    "name": "ipython",
    "version": 3
   },
   "file_extension": ".py",
   "mimetype": "text/x-python",
   "name": "python",
   "nbconvert_exporter": "python",
   "pygments_lexer": "ipython3",
   "version": "3.8.8"
  }
 },
 "nbformat": 4,
 "nbformat_minor": 5
}
