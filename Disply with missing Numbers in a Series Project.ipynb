{
 "cells": [
  {
   "cell_type": "markdown",
   "id": "3b55f182",
   "metadata": {},
   "source": [
    "# Displaying the Series of Numbers with Missing Multiples of 'Number'"
   ]
  },
  {
   "cell_type": "code",
   "execution_count": 11,
   "id": "8d774a41",
   "metadata": {},
   "outputs": [
    {
     "name": "stdout",
     "output_type": "stream",
     "text": [
      "Enter the Starting Number to be displayed : 5\n",
      "Enter the Ending Number to be displayed : 15\n",
      "Enter the multiples of a Number to be missed in the Series :3\n",
      "\n",
      "The Required Numbers in a series are: \n",
      "\n",
      "5\n",
      "7\n",
      "8\n",
      "10\n",
      "11\n",
      "13\n",
      "14\n"
     ]
    }
   ],
   "source": [
    "a = int(input('Enter the Starting Number to be displayed : '))\n",
    "b = int(input('Enter the Ending Number to be displayed : '))\n",
    "c = int(input('Enter the multiples of a Number to be missed in the Series :'))\n",
    "print(\"\\nThe Required Numbers in a series are: \")\n",
    "print()\n",
    "for i in range(a,b+1):\n",
    "    if i%c == 0:\n",
    "        continue\n",
    "    print(i)"
   ]
  },
  {
   "cell_type": "code",
   "execution_count": null,
   "id": "b9ff54aa",
   "metadata": {},
   "outputs": [],
   "source": []
  }
 ],
 "metadata": {
  "kernelspec": {
   "display_name": "Python 3",
   "language": "python",
   "name": "python3"
  },
  "language_info": {
   "codemirror_mode": {
    "name": "ipython",
    "version": 3
   },
   "file_extension": ".py",
   "mimetype": "text/x-python",
   "name": "python",
   "nbconvert_exporter": "python",
   "pygments_lexer": "ipython3",
   "version": "3.8.8"
  }
 },
 "nbformat": 4,
 "nbformat_minor": 5
}
