{
 "cells": [
  {
   "cell_type": "markdown",
   "id": "26a2de01",
   "metadata": {},
   "source": [
    "# Patterns"
   ]
  },
  {
   "cell_type": "code",
   "execution_count": 20,
   "id": "5155c540",
   "metadata": {},
   "outputs": [
    {
     "name": "stdout",
     "output_type": "stream",
     "text": [
      "Enter the rows :5\n",
      "         1 \n",
      "       1 2 \n",
      "     1 2 3 \n",
      "   1 2 3 4 \n",
      " 1 2 3 4 5 \n",
      "   1 2 3 4 \n",
      "     1 2 3 \n",
      "       1 2 \n",
      "         1 \n"
     ]
    }
   ],
   "source": [
    "n = int(input(\"Enter the rows :\"))\n",
    "\n",
    "for i in range(n):\n",
    "    print('  '*(n-i-1), end = ' ')\n",
    "    for j in range(i+1):\n",
    "        print(j+1, end = ' ')\n",
    "    print()\n",
    "for i in range(n-1):\n",
    "    print('  '*(i+1), end = ' ')\n",
    "    for j in range(n-i-1):\n",
    "        print(j+1, end = ' ')\n",
    "    print()"
   ]
  },
  {
   "cell_type": "code",
   "execution_count": 3,
   "id": "a041603a",
   "metadata": {},
   "outputs": [
    {
     "name": "stdout",
     "output_type": "stream",
     "text": [
      "Enter the number of rows : 5\n",
      " $  $  $  $  $ \n",
      " $  $  $  $  $ \n",
      " $  $  $  $  $ \n",
      " $  $  $  $  $ \n",
      " $  $  $  $  $ \n"
     ]
    }
   ],
   "source": [
    "n = int(input(\"Enter the number of rows : \"))\n",
    "for i in range(n):\n",
    "    for j in range(n):\n",
    "        print(\" $\", end = ' ')\n",
    "    print()"
   ]
  },
  {
   "cell_type": "code",
   "execution_count": 6,
   "id": "5a190461",
   "metadata": {},
   "outputs": [
    {
     "name": "stdout",
     "output_type": "stream",
     "text": [
      "Enter the number of rows : 6\n",
      " $  $  $  $  $  $  \n",
      " $  $  $  $  $  $  \n",
      " $  $  $  $  $  $  \n",
      " $  $  $  $  $  $  \n",
      " $  $  $  $  $  $  \n",
      " $  $  $  $  $  $  \n"
     ]
    }
   ],
   "source": [
    "n = int(input(\"Enter the number of rows : \"))\n",
    "for i in range(n):\n",
    "    print(\" $ \"*n, end = ' ')\n",
    "    print()"
   ]
  },
  {
   "cell_type": "code",
   "execution_count": 11,
   "id": "ef6273e2",
   "metadata": {},
   "outputs": [
    {
     "name": "stdout",
     "output_type": "stream",
     "text": [
      "Enter the number of rows : 4\n",
      " & \n",
      " &  & \n",
      " &  &  & \n",
      " &  &  &  & \n"
     ]
    }
   ],
   "source": [
    "n = int(input(\"Enter the number of rows : \"))\n",
    "for i in range(1, n+1):\n",
    "    print(\" & \"*i)"
   ]
  },
  {
   "cell_type": "code",
   "execution_count": 20,
   "id": "ece023d1",
   "metadata": {},
   "outputs": [
    {
     "name": "stdout",
     "output_type": "stream",
     "text": [
      "Enter the number of rows : 5\n",
      "    * \n",
      "   * * \n",
      "  * * * \n",
      " * * * * \n",
      "* * * * * \n"
     ]
    }
   ],
   "source": [
    "n = int(input(\"Enter the number of rows : \"))\n",
    "for i in range(1, n+1):\n",
    "    print(\" \"*(n-i)+\"* \"*i)"
   ]
  },
  {
   "cell_type": "code",
   "execution_count": 26,
   "id": "e834a732",
   "metadata": {},
   "outputs": [
    {
     "name": "stdout",
     "output_type": "stream",
     "text": [
      "Enter the number of rows : 5\n",
      "          * \n",
      "        *   * \n",
      "      *   *   * \n",
      "    *   *   *   * \n",
      "  *   *   *   *   * \n"
     ]
    }
   ],
   "source": [
    "n = int(input(\"Enter the number of rows : \"))\n",
    "for i in range(1, n+1):\n",
    "    print(\"  \"*(n-i)+\"  * \"*i)"
   ]
  },
  {
   "cell_type": "code",
   "execution_count": 29,
   "id": "53ef843a",
   "metadata": {},
   "outputs": [
    {
     "name": "stdout",
     "output_type": "stream",
     "text": [
      "Enter the number of rows : 5\n",
      "          * \n",
      "        *   * \n",
      "      *   *   * \n",
      "    *   *   *   * \n",
      "  *   *   *   *   * \n",
      "    *   *   *   * \n",
      "      *   *   * \n",
      "        *   * \n",
      "          * \n"
     ]
    }
   ],
   "source": [
    "n = int(input(\"Enter the number of rows : \"))\n",
    "for i in range(1, n+1):\n",
    "    print(\"  \"*(n-i)+\"  * \"*i)\n",
    "for i in range(n-1, 0, -1):\n",
    "    print(\"  \"*(n-i)+\"  * \"*i)"
   ]
  },
  {
   "cell_type": "code",
   "execution_count": 30,
   "id": "99a78b69",
   "metadata": {},
   "outputs": [
    {
     "name": "stdout",
     "output_type": "stream",
     "text": [
      "Enter the number of rows : 5\n",
      "          * \n",
      "        *   * \n",
      "      *   *   * \n",
      "    *   *   *   * \n",
      "  *   *   *   *   * \n",
      "  *   *   *   *   * \n",
      "    *   *   *   * \n",
      "      *   *   * \n",
      "        *   * \n",
      "          * \n"
     ]
    }
   ],
   "source": [
    "n = int(input(\"Enter the number of rows : \"))\n",
    "for i in range(1, n+1):\n",
    "    print(\"  \"*(n-i)+\"  * \"*i)\n",
    "for i in range(n, 0, -1):\n",
    "    print(\"  \"*(n-i)+\"  * \"*i)"
   ]
  },
  {
   "cell_type": "code",
   "execution_count": 33,
   "id": "989eb704",
   "metadata": {},
   "outputs": [
    {
     "name": "stdout",
     "output_type": "stream",
     "text": [
      "Enter the number of rows : 6\n",
      "* * * * * * \n",
      "  * * * * * \n",
      "    * * * * \n",
      "      * * * \n",
      "        * * \n",
      "          * \n"
     ]
    }
   ],
   "source": [
    "n = int(input(\"Enter the number of rows : \"))\n",
    "for i in range(n, 0, -1):\n",
    "    print(\"  \"*(n-i)+\"* \"*i)"
   ]
  },
  {
   "cell_type": "code",
   "execution_count": 35,
   "id": "441a236c",
   "metadata": {},
   "outputs": [
    {
     "name": "stdout",
     "output_type": "stream",
     "text": [
      "Enter the number of rows : 6\n",
      " * * * * * *\n",
      "  * * * * *\n",
      "   * * * *\n",
      "    * * *\n",
      "     * *\n",
      "      *\n"
     ]
    }
   ],
   "source": [
    "n = int(input(\"Enter the number of rows : \"))\n",
    "for i in range(n, 0, -1):\n",
    "    print(\" \"*(n-i)+\" *\"*i)"
   ]
  },
  {
   "cell_type": "code",
   "execution_count": 36,
   "id": "6fb565d5",
   "metadata": {},
   "outputs": [
    {
     "name": "stdout",
     "output_type": "stream",
     "text": [
      "Enter the number of rows : 6\n",
      "      \n",
      " *      \n",
      " *  *     \n",
      " *  *  *    \n",
      " *  *  *  *   \n",
      " *  *  *  *  *  \n"
     ]
    }
   ],
   "source": [
    "n = int(input(\"Enter the number of rows : \"))\n",
    "for i in range(n, 0, -1):\n",
    "    print(\" * \"*(n-i)+\" \"*i)"
   ]
  },
  {
   "cell_type": "code",
   "execution_count": 37,
   "id": "2c94ca99",
   "metadata": {},
   "outputs": [
    {
     "name": "stdout",
     "output_type": "stream",
     "text": [
      "Enter the number of rows : 5\n",
      "* * * * * \n",
      "* * * * \n",
      "* * * \n",
      "* * \n",
      "* \n"
     ]
    }
   ],
   "source": [
    "n = int(input(\"Enter the number of rows : \"))\n",
    "for i in range(n, 0, -1):\n",
    "    print(\"* \"*i)"
   ]
  },
  {
   "cell_type": "code",
   "execution_count": 40,
   "id": "6a65daae",
   "metadata": {},
   "outputs": [
    {
     "name": "stdout",
     "output_type": "stream",
     "text": [
      "Enter the number of rows : 6\n",
      " * \n",
      " *  * \n",
      " *  *  * \n",
      " *  *  *  * \n",
      " *  *  *  *  * \n",
      " *  *  *  *  *  * \n",
      " *  *  *  *  *  * \n",
      " *  *  *  *  * \n",
      " *  *  *  * \n",
      " *  *  * \n",
      " *  * \n",
      " * \n"
     ]
    }
   ],
   "source": [
    "n = int(input(\"Enter the number of rows : \"))\n",
    "for i in range(1, n+1):\n",
    "    print(\" * \"*i)\n",
    "for i in range(n, 0, -1):\n",
    "    print(\" * \"*i)"
   ]
  },
  {
   "cell_type": "code",
   "execution_count": 41,
   "id": "80ed908a",
   "metadata": {},
   "outputs": [
    {
     "name": "stdout",
     "output_type": "stream",
     "text": [
      "Enter the number of rows : 6\n",
      " * \n",
      " *  * \n",
      " *  *  * \n",
      " *  *  *  * \n",
      " *  *  *  *  * \n",
      " *  *  *  *  *  * \n",
      " *  *  *  *  * \n",
      " *  *  *  * \n",
      " *  *  * \n",
      " *  * \n",
      " * \n"
     ]
    }
   ],
   "source": [
    "n = int(input(\"Enter the number of rows : \"))\n",
    "for i in range(1, n+1):\n",
    "    print(\" * \"*i)\n",
    "for i in range(n-1, 0, -1):\n",
    "    print(\" * \"*i)\n"
   ]
  },
  {
   "cell_type": "code",
   "execution_count": 46,
   "id": "d1021ad2",
   "metadata": {},
   "outputs": [
    {
     "name": "stdout",
     "output_type": "stream",
     "text": [
      "Enter the number of rows : 5\n",
      "        * \n",
      "      * * \n",
      "    * * * \n",
      "  * * * * \n",
      "* * * * * \n",
      "  * * * * \n",
      "    * * * \n",
      "      * * \n",
      "        * \n"
     ]
    }
   ],
   "source": [
    "n = int(input(\"Enter the number of rows : \"))\n",
    "for i in range(1, n+1):\n",
    "    print(\"  \"*(n-i)+\"* \"*i)\n",
    "for i in range(n-1, 0, -1):\n",
    "    print(\"  \"*(n-i)+\"* \"*i)  "
   ]
  },
  {
   "cell_type": "code",
   "execution_count": 47,
   "id": "bb73bee6",
   "metadata": {},
   "outputs": [
    {
     "name": "stdout",
     "output_type": "stream",
     "text": [
      "Enter the number of rows : 5\n",
      "    * \n",
      "   * * \n",
      "  * * * \n",
      " * * * * \n",
      "* * * * * \n",
      " * * * * \n",
      "  * * * \n",
      "   * * \n",
      "    * \n"
     ]
    }
   ],
   "source": [
    "n = int(input(\"Enter the number of rows : \"))\n",
    "for i in range(1, n+1):\n",
    "    print(\" \"*(n-i)+\"* \"*i)\n",
    "for i in range(n-1, 0, -1):\n",
    "    print(\" \"*(n-i)+\"* \"*i)  "
   ]
  }
 ],
 "metadata": {
  "kernelspec": {
   "display_name": "Python 3",
   "language": "python",
   "name": "python3"
  },
  "language_info": {
   "codemirror_mode": {
    "name": "ipython",
    "version": 3
   },
   "file_extension": ".py",
   "mimetype": "text/x-python",
   "name": "python",
   "nbconvert_exporter": "python",
   "pygments_lexer": "ipython3",
   "version": "3.8.8"
  }
 },
 "nbformat": 4,
 "nbformat_minor": 5
}
