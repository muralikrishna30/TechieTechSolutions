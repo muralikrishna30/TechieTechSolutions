{
 "cells": [
  {
   "cell_type": "markdown",
   "id": "8a31a7d0",
   "metadata": {},
   "source": [
    "# MultiThreading"
   ]
  },
  {
   "cell_type": "code",
   "execution_count": 19,
   "id": "546765b3",
   "metadata": {},
   "outputs": [
    {
     "name": "stdout",
     "output_type": "stream",
     "text": [
      "Current Excuting Thread: MainThread\n"
     ]
    }
   ],
   "source": [
    "import threading\n",
    "print(\"Current Excuting Thread:\", threading.current_thread().getName())"
   ]
  },
  {
   "cell_type": "code",
   "execution_count": 20,
   "id": "2424d0eb",
   "metadata": {},
   "outputs": [
    {
     "name": "stdout",
     "output_type": "stream",
     "text": [
      "This code executed by Threading:  MainThread\n"
     ]
    }
   ],
   "source": [
    "from threading import *\n",
    "def display():\n",
    "    print(\"This code executed by Threading: \", current_thread().getName())\n",
    "    \n",
    "display()\n",
    "    "
   ]
  },
  {
   "cell_type": "code",
   "execution_count": 21,
   "id": "8bf58b1c",
   "metadata": {},
   "outputs": [
    {
     "name": "stdout",
     "output_type": "stream",
     "text": [
      "This code executed by Threading: This code executed by Threading:  MainThread\n",
      " Thread-20\n"
     ]
    }
   ],
   "source": [
    "from threading import *\n",
    "def display():\n",
    "    print(\"This code executed by Threading: \", current_thread().getName())\n",
    "    \n",
    "t = Thread(target = display)\n",
    "t.start()\n",
    "print(\"This code executed by Threading: \", current_thread().getName())"
   ]
  },
  {
   "cell_type": "code",
   "execution_count": 18,
   "id": "f577d05d",
   "metadata": {},
   "outputs": [
    {
     "name": "stdout",
     "output_type": "stream",
     "text": [
      "Child ThreadMain Thread\n",
      "Child Thread\n",
      "Child Thread\n",
      "\n",
      "Main Thread\n"
     ]
    }
   ],
   "source": [
    "from threading import *\n",
    "def display():\n",
    "    for i in range(3):\n",
    "        print('Child Thread')\n",
    "\n",
    "t = Thread(target = display)\n",
    "t.start()\n",
    "\n",
    "for i in range(2):\n",
    "     print('Main Thread')"
   ]
  },
  {
   "cell_type": "code",
   "execution_count": 23,
   "id": "c4bc3b56",
   "metadata": {},
   "outputs": [
    {
     "name": "stdout",
     "output_type": "stream",
     "text": [
      "Child Thread - 1Main Thread - 1\n",
      "Main Thread - 1\n",
      "Main Thread - 1\n",
      "Main Thread - 1\n",
      "\n",
      "Child Thread - 1\n",
      "Child Thread - 1\n",
      "Child Thread - 1\n"
     ]
    }
   ],
   "source": [
    "from threading import *\n",
    "class MyThread(Thread):\n",
    "    def run(self):\n",
    "        for i in range(4):\n",
    "            print(\"Child Thread - 1\")\n",
    "t = MyThread()\n",
    "t.start()\n",
    "for i in range(4):\n",
    "    print(\"Main Thread - 1\")\n"
   ]
  },
  {
   "cell_type": "code",
   "execution_count": 21,
   "id": "c1bb5db9",
   "metadata": {
    "scrolled": true
   },
   "outputs": [
    {
     "name": "stdout",
     "output_type": "stream",
     "text": [
      "\n",
      "Helloo\n",
      "\n",
      "Hi\n",
      "\n",
      "Helloo\n",
      "\n",
      "Hi\n",
      "\n",
      "Helloo\n",
      "\n",
      "Hi\n",
      "\n",
      "Helloo\n",
      "\n",
      "Hi\n",
      "\n",
      "Helloo\n",
      "\n",
      "Hi\n",
      "\n",
      "\n",
      "bye\n"
     ]
    }
   ],
   "source": [
    "from time import sleep\n",
    "from threading import *\n",
    "\n",
    "class hello(Thread):\n",
    "    def run(self):\n",
    "        for i in range (5):\n",
    "            print(\"\\nHelloo\")\n",
    "            sleep(1)\n",
    "          \n",
    "\n",
    "class hi(Thread):\n",
    "    def run(self):\n",
    "        for i in range (5):\n",
    "            print(\"\\nHi\")\n",
    "            sleep(1)\n",
    "    \n",
    "            \n",
    "t1 = hello()\n",
    "t2 = hi()\n",
    "\n",
    "t1.start()\n",
    "sleep(1)\n",
    "t2.start()\n",
    "t1.join()\n",
    "t2.join()\n",
    "print(\"\\n\\nbye\")"
   ]
  },
  {
   "cell_type": "code",
   "execution_count": null,
   "id": "116752e8",
   "metadata": {},
   "outputs": [],
   "source": []
  },
  {
   "cell_type": "code",
   "execution_count": null,
   "id": "9a819429",
   "metadata": {},
   "outputs": [],
   "source": []
  }
 ],
 "metadata": {
  "kernelspec": {
   "display_name": "Python 3",
   "language": "python",
   "name": "python3"
  },
  "language_info": {
   "codemirror_mode": {
    "name": "ipython",
    "version": 3
   },
   "file_extension": ".py",
   "mimetype": "text/x-python",
   "name": "python",
   "nbconvert_exporter": "python",
   "pygments_lexer": "ipython3",
   "version": "3.8.8"
  }
 },
 "nbformat": 4,
 "nbformat_minor": 5
}
