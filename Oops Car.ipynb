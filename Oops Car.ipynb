{
 "cells": [
  {
   "cell_type": "markdown",
   "id": "c61def6f",
   "metadata": {},
   "source": [
    "# Oops Car"
   ]
  },
  {
   "cell_type": "code",
   "execution_count": 13,
   "id": "59b42fb5",
   "metadata": {},
   "outputs": [
    {
     "name": "stdout",
     "output_type": "stream",
     "text": [
      "\n",
      "The Speed of BMW car is 300 kmph.\n",
      "The Speed of Maruthi car is 200 kmph.\n",
      "The Speed of Ford car is 250 kmph.\n",
      "\n",
      "\n",
      "The Manufacturing year of the BMW Car is 1996.\n",
      "The Manufacturing year of the Maruthi Car is 2000.\n",
      "The Manufacturing year of the Ford Car is 2012.\n",
      "\n"
     ]
    }
   ],
   "source": [
    "class car:\n",
    "    def __init__(self, name, year, speed):\n",
    "        self.name = name\n",
    "        self.year = year\n",
    "        self.speed = speed\n",
    "    def getDetails(self):\n",
    "        print(\"The Speed of {} car is {} kmph.\".format(self.name,self.speed))\n",
    "    \n",
    "    def getModel(self):\n",
    "        print(\"The Manufacturing year of the {} Car is {}.\".format(self.name,self.year))\n",
    "        \n",
    "\n",
    "BMW = car('BMW', 1996, 300)\n",
    "Maruthi = car('Maruthi', 2000, 200)\n",
    "Ford = car('Ford', 2012, 250)\n",
    "\n",
    "print()\n",
    "BMW.getDetails()\n",
    "Maruthi.getDetails()\n",
    "Ford.getDetails()\n",
    "print()\n",
    "\n",
    "print()\n",
    "BMW.getModel()\n",
    "Maruthi.getModel()\n",
    "Ford.getModel()\n",
    "print()"
   ]
  },
  {
   "cell_type": "markdown",
   "id": "5ddeaa11",
   "metadata": {},
   "source": [
    "# Inheritance: Inheritance is the mechanism for a new class to use the features of another class.\n"
   ]
  },
  {
   "cell_type": "code",
   "execution_count": 41,
   "id": "fe20efb3",
   "metadata": {},
   "outputs": [
    {
     "name": "stdout",
     "output_type": "stream",
     "text": [
      "The Speed of BMW car is 300 kmph.\n",
      "The Manufacturing year of the BMW Car is 1996.\n",
      "The Speed of Maruthi car is 200 kmph.\n",
      "The Manufacturing year of the Maruthi Car is 2000.\n",
      "The Speed of Ford car is 250 kmph.\n",
      "The Manufacturing year of the Ford Car is 2012.\n",
      "The Speed of Honda car is 255 kmph.\n",
      "The Manufacturing year of the Honda Car is 1998.\n",
      "The Trunk had been Opened !!\n",
      "The Speed of JMM car is 500 kmph.\n",
      "The Manufacturing year of the JMM Car is 1995.\n",
      "The Trunk had been Opened !!\n",
      "The Door has been opened !!\n",
      "The Acceleration is:  133\n",
      "The Acceleration is:  122\n"
     ]
    }
   ],
   "source": [
    "class car:\n",
    "    def __init__(self, name, year, speed, accelerate):\n",
    "        self.name = name\n",
    "        self.year = year\n",
    "        self.speed = speed\n",
    "        self.acceletare = accelerate\n",
    "    def getDetails(self):\n",
    "        print(\"The Speed of {} car is {} kmph.\".format(self.name,self.speed))\n",
    "    \n",
    "    def getModel(self):\n",
    "        print(\"The Manufacturing year of the {} Car is {}.\".format(self.name,self.year))\n",
    "        \n",
    "\n",
    "BMW = car('BMW', 1996, 300,111)\n",
    "Maruthi = car('Maruthi', 2000, 200,222)\n",
    "Ford = car('Ford', 2012, 250,333)\n",
    "\n",
    "\n",
    "class sedan(car):\n",
    "    def accelerate(self):\n",
    "        print(\"The Acceleration is: \", self.acceletare)\n",
    "    def openTrunk(self):\n",
    "        print('The Trunk had been Opened !!')\n",
    "        \n",
    "class SUV(sedan):\n",
    "    def openDoor(self):\n",
    "        print('The Door has been opened !!')\n",
    "\n",
    "Honda = sedan('Honda', 1998, 255,133)\n",
    "JMM = SUV('JMM', 1995, 500,122)\n",
    "\n",
    "BMW.getDetails()\n",
    "BMW.getModel()\n",
    "Maruthi.getDetails()\n",
    "Maruthi.getModel()\n",
    "Ford.getDetails()\n",
    "Ford.getModel()\n",
    "\n",
    "Honda.getDetails()\n",
    "Honda.getModel()\n",
    "Honda.openTrunk()\n",
    "\n",
    "JMM.getDetails()\n",
    "JMM.getModel()\n",
    "JMM.openTrunk()\n",
    "JMM.openDoor()\n",
    "\n",
    "Honda.accelerate()\n",
    "JMM.accelerate()"
   ]
  },
  {
   "cell_type": "markdown",
   "id": "a9700fe9",
   "metadata": {},
   "source": [
    "# Encapsulation: The Feature of preventing Data from direct access.\n"
   ]
  },
  {
   "cell_type": "code",
   "execution_count": 42,
   "id": "2aa8cc85",
   "metadata": {},
   "outputs": [],
   "source": [
    "class car:\n",
    "    def __init__(self, name, year, speed, accelerate):\n",
    "        self.name = name\n",
    "        self.year = year\n",
    "        self.speed = speed\n",
    "        self.acceletare = accelerate\n",
    "    def getDetails(self):\n",
    "        print(\"The Speed of {} car is {} kmph.\".format(self.name,self.speed))\n",
    "    \n",
    "    def getModel(self):\n",
    "        print(\"The Manufacturing year of the {} Car is {}.\".format(self.name,self.year))\n",
    "        \n",
    "\n",
    "BMW = car('BMW', 1996, 300,111)\n",
    "Maruthi = car('Maruthi', 2000, 200,222)\n",
    "\n",
    "Ford = car('Ford', 2012, 250,333)"
   ]
  },
  {
   "cell_type": "code",
   "execution_count": null,
   "id": "0ae088bc",
   "metadata": {},
   "outputs": [],
   "source": []
  }
 ],
 "metadata": {
  "kernelspec": {
   "display_name": "Python 3",
   "language": "python",
   "name": "python3"
  },
  "language_info": {
   "codemirror_mode": {
    "name": "ipython",
    "version": 3
   },
   "file_extension": ".py",
   "mimetype": "text/x-python",
   "name": "python",
   "nbconvert_exporter": "python",
   "pygments_lexer": "ipython3",
   "version": "3.8.8"
  }
 },
 "nbformat": 4,
 "nbformat_minor": 5
}
