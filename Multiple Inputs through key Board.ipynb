{
 "cells": [
  {
   "cell_type": "markdown",
   "id": "68e5bbd2",
   "metadata": {},
   "source": [
    "# Multiple Inputs from the single user key input"
   ]
  },
  {
   "cell_type": "code",
   "execution_count": 7,
   "id": "97b986bd",
   "metadata": {},
   "outputs": [
    {
     "name": "stdout",
     "output_type": "stream",
     "text": [
      "Enter two Values :23 45\n",
      "The First Input is: 23 \n",
      "The Second Input is: 45\n"
     ]
    }
   ],
   "source": [
    "input1, input2 = input('Enter two Values :').split()\n",
    "print(\"The First Input is: {} \\nThe Second Input is: {}\". format(input1,input2))"
   ]
  },
  {
   "cell_type": "code",
   "execution_count": 8,
   "id": "a25eb4ef",
   "metadata": {},
   "outputs": [
    {
     "name": "stdout",
     "output_type": "stream",
     "text": [
      "Enter two Values :34 56\n",
      "The First Input is:  34\n",
      "The Second Input is:  56\n"
     ]
    }
   ],
   "source": [
    "input1, input2 = input('Enter two Values :').split()\n",
    "print(\"The First Input is: \", input1)\n",
    "print(\"The Second Input is: \", input2)"
   ]
  },
  {
   "cell_type": "code",
   "execution_count": 9,
   "id": "4d1f02f3",
   "metadata": {},
   "outputs": [
    {
     "name": "stdout",
     "output_type": "stream",
     "text": [
      "Enter two Values :45 67 89\n",
      "The First Input is:  45\n",
      "The Second Input is:  67\n",
      "The Third Input is:  89\n"
     ]
    }
   ],
   "source": [
    "input1, input2, input3 = input('Enter two Values :').split()\n",
    "print(\"The First Input is: \", input1)\n",
    "print(\"The Second Input is: \", input2)\n",
    "print(\"The Third Input is: \", input3)"
   ]
  },
  {
   "cell_type": "code",
   "execution_count": 10,
   "id": "97ddba42",
   "metadata": {},
   "outputs": [
    {
     "name": "stdout",
     "output_type": "stream",
     "text": [
      "Enter the Values :2 3 4 5 6 7 8 9\n",
      "[2, 3, 4, 5, 6, 7, 8, 9]\n"
     ]
    }
   ],
   "source": [
    "new = list(map(int,input(\"Enter the Values :\"). split()))\n",
    "print(new)"
   ]
  },
  {
   "cell_type": "code",
   "execution_count": 11,
   "id": "409dd6e4",
   "metadata": {},
   "outputs": [
    {
     "name": "stdout",
     "output_type": "stream",
     "text": [
      "Enter the Values :4 5 6 7 8 9\n",
      "[4, 5, 6, 7, 8, 9]\n"
     ]
    }
   ],
   "source": [
    "new1 = list(map(int,input(\"Enter the Values :\"). split()))\n",
    "print(new1)"
   ]
  },
  {
   "cell_type": "code",
   "execution_count": 12,
   "id": "74eb2860",
   "metadata": {},
   "outputs": [
    {
     "name": "stdout",
     "output_type": "stream",
     "text": [
      "Enter the Values: 2 3 4\n",
      "2\n",
      "3\n",
      "4\n"
     ]
    }
   ],
   "source": [
    "a,b,c = [int(a) for a in input('Enter the Values: ').split()]\n",
    "print(a)\n",
    "print(b)\n",
    "print(c)"
   ]
  },
  {
   "cell_type": "code",
   "execution_count": 13,
   "id": "896eb059",
   "metadata": {},
   "outputs": [
    {
     "name": "stdout",
     "output_type": "stream",
     "text": [
      "Enter Multiple Values: 3 4 5 6 7 8 9\n",
      "[3, 4, 5, 6, 7, 8, 9]\n"
     ]
    }
   ],
   "source": [
    "x = [int(x) for x in input(\"Enter Multiple Values: \").split()]\n",
    "print(x)"
   ]
  }
 ],
 "metadata": {
  "kernelspec": {
   "display_name": "Python 3",
   "language": "python",
   "name": "python3"
  },
  "language_info": {
   "codemirror_mode": {
    "name": "ipython",
    "version": 3
   },
   "file_extension": ".py",
   "mimetype": "text/x-python",
   "name": "python",
   "nbconvert_exporter": "python",
   "pygments_lexer": "ipython3",
   "version": "3.8.8"
  }
 },
 "nbformat": 4,
 "nbformat_minor": 5
}
