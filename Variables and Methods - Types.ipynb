{
 "cells": [
  {
   "cell_type": "markdown",
   "id": "d9d3e441",
   "metadata": {},
   "source": [
    "# Functions and Methods"
   ]
  },
  {
   "cell_type": "code",
   "execution_count": 2,
   "id": "ccb2b306",
   "metadata": {},
   "outputs": [
    {
     "name": "stdout",
     "output_type": "stream",
     "text": [
      "Hi !! TechiTech\n"
     ]
    }
   ],
   "source": [
    "def greet(name):\n",
    "    print(f\"Hi !! {name}\")\n",
    "greet(\"TechiTech\")  "
   ]
  },
  {
   "cell_type": "code",
   "execution_count": 7,
   "id": "384c3e82",
   "metadata": {},
   "outputs": [
    {
     "data": {
      "text/plain": [
       "'Hi !! TechieTech'"
      ]
     },
     "execution_count": 7,
     "metadata": {},
     "output_type": "execute_result"
    }
   ],
   "source": [
    "def greet(name):\n",
    "    return f\"Hi !! {name}\"\n",
    "greet(\"TechieTech\")"
   ]
  },
  {
   "cell_type": "code",
   "execution_count": 9,
   "id": "51148dc0",
   "metadata": {},
   "outputs": [
    {
     "name": "stdout",
     "output_type": "stream",
     "text": [
      "The Product is: 720\n"
     ]
    }
   ],
   "source": [
    "def multiply(*numbers):\n",
    "    value = 1\n",
    "    for number in numbers:\n",
    "        value *=number\n",
    "    print(\"The Product is:\", value)\n",
    "multiply(2,3,4,5,6)"
   ]
  },
  {
   "cell_type": "code",
   "execution_count": 10,
   "id": "9925e5a3",
   "metadata": {},
   "outputs": [
    {
     "data": {
      "text/plain": [
       "'The Product is: 720'"
      ]
     },
     "execution_count": 10,
     "metadata": {},
     "output_type": "execute_result"
    }
   ],
   "source": [
    "def multiply(*numbers):\n",
    "    value = 1\n",
    "    for number in numbers:\n",
    "        value *=number\n",
    "    return f\"The Product is: {value}\"\n",
    "multiply(2,3,4,5,6)"
   ]
  },
  {
   "cell_type": "code",
   "execution_count": 13,
   "id": "06ffb524",
   "metadata": {},
   "outputs": [
    {
     "data": {
      "text/plain": [
       "{'id': 101, 'name': 'Techie', 'order': 'tech'}"
      ]
     },
     "execution_count": 13,
     "metadata": {},
     "output_type": "execute_result"
    }
   ],
   "source": [
    "def userss(**user):\n",
    "    return user\n",
    "userss(id = 101, name = \"Techie\", order = \"tech\")"
   ]
  },
  {
   "cell_type": "code",
   "execution_count": 14,
   "id": "cb2b375a",
   "metadata": {},
   "outputs": [
    {
     "data": {
      "text/plain": [
       "'Techie'"
      ]
     },
     "execution_count": 14,
     "metadata": {},
     "output_type": "execute_result"
    }
   ],
   "source": [
    "def userss(**user):\n",
    "    return user[\"name\"]\n",
    "userss(id = 101, name = \"Techie\", order = \"tech\")"
   ]
  },
  {
   "cell_type": "markdown",
   "id": "79284b55",
   "metadata": {},
   "source": [
    "# Constructors ( No Constructors overloading in Python. Only last construction worksout. Others are neglected.)"
   ]
  },
  {
   "cell_type": "code",
   "execution_count": 14,
   "id": "714a7972",
   "metadata": {},
   "outputs": [
    {
     "name": "stdout",
     "output_type": "stream",
     "text": [
      "Third Constructor:  30\n",
      "Third Constructor:  20\n",
      "Third Constructor:  30\n",
      "Third Constructor:  44\n"
     ]
    }
   ],
   "source": [
    "class TestConst:\n",
    "    def __init__(self,y):\n",
    "        print(\"First Constructor !!!\",y)\n",
    "    def __init__(Self,x):\n",
    "        print('Second Constructor: ',x)\n",
    "    def __init__(Self,z):\n",
    "        print('Third Constructor: ',z)\n",
    "    def __init__(Self,z,a):\n",
    "        print('Third Constructor: ',z+a)\n",
    "\n",
    "t1 = TestConst(15,15)\n",
    "t2 = TestConst(10,10)\n",
    "t3 = TestConst(10,20)\n",
    "t4 = TestConst(10,34)  # No operators overloading in Python. Only last construction worksout. Others are neglected."
   ]
  },
  {
   "cell_type": "markdown",
   "id": "b11423e0",
   "metadata": {},
   "source": [
    "# 1. Instance Variables"
   ]
  },
  {
   "cell_type": "code",
   "execution_count": 6,
   "id": "0875d0af",
   "metadata": {},
   "outputs": [
    {
     "name": "stdout",
     "output_type": "stream",
     "text": [
      "The Student Name is : praveen\n",
      "The Student Regd No is : 101\n",
      "The Student marks are : 111\n"
     ]
    }
   ],
   "source": [
    "class Student:\n",
    "    def __init__(self, name, RegdNo, marks):\n",
    "        self.name = name\n",
    "        self.RegdNo = RegdNo\n",
    "        self.marks = marks\n",
    "    \n",
    "    def display(self):\n",
    "        print(\"The Student Name is :\", self.name)\n",
    "        print(\"The Student Regd No is :\", self.RegdNo)\n",
    "        print(\"The Student marks are :\", self.marks)\n",
    "t1 = Student(\"praveen\", 101, 111)\n",
    "t2 = Student(\"ram\", 102, 222)\n",
    "t3 = Student(\"Som\", 103, 3333)\n",
    "t1.display()\n"
   ]
  },
  {
   "cell_type": "markdown",
   "id": "198b7a73",
   "metadata": {},
   "source": [
    "# 2. Static Variables"
   ]
  },
  {
   "cell_type": "code",
   "execution_count": 17,
   "id": "8c0f04f9",
   "metadata": {},
   "outputs": [
    {
     "name": "stdout",
     "output_type": "stream",
     "text": [
      "The Student Name is : praveen\n",
      "The Student Regd No is : 101\n",
      "The Student marks are : 111\n",
      "The Student Name is : ram\n",
      "The Student Regd No is : 102\n",
      "The Student marks are : 222\n",
      "The Student Name is : Som\n",
      "The Student Regd No is : 103\n",
      "The Student marks are : 3333\n",
      "TechieTech\n",
      "TechieTech\n",
      "TechieTech\n"
     ]
    }
   ],
   "source": [
    "class Student:\n",
    "    collegename = \"TechieTech\"             # static variable\n",
    "    def __init__(self, name, RegdNo, marks):\n",
    "        self.name = name\n",
    "        self.RegdNo = RegdNo\n",
    "        self.marks = marks\n",
    "    \n",
    "    def display(self):\n",
    "        print(\"The Student Name is :\", self.name)\n",
    "        print(\"The Student Regd No is :\", self.RegdNo)\n",
    "        print(\"The Student marks are :\", self.marks)\n",
    "t1 = Student(\"praveen\", 101, 111)\n",
    "t2 = Student(\"ram\", 102, 222)\n",
    "t3 = Student(\"Som\", 103, 3333)\n",
    "t1.display()\n",
    "t2.display()\n",
    "t3.display()\n",
    "print(t1.collegename)\n",
    "print(t2.collegename)\n",
    "print(t3.collegename)"
   ]
  },
  {
   "cell_type": "markdown",
   "id": "febde185",
   "metadata": {},
   "source": [
    "# 3. Local variables"
   ]
  },
  {
   "cell_type": "code",
   "execution_count": 21,
   "id": "121a969a",
   "metadata": {},
   "outputs": [
    {
     "name": "stdout",
     "output_type": "stream",
     "text": [
      "The Student Name is : praveen\n",
      "The Student Regd No is : 101\n",
      "The Student marks are : 136\n",
      "The Student Name is : ram\n",
      "The Student Regd No is : 102\n",
      "The Student marks are : 247\n",
      "The Student Name is : Som\n",
      "The Student Regd No is : 103\n",
      "The Student marks are : 3358\n"
     ]
    }
   ],
   "source": [
    "class Student:\n",
    "    def __init__(self, name, RegdNo, marks):\n",
    "        count = 3                       # Local Variable for temporary purpose\n",
    "        self.name = name\n",
    "        self.RegdNo = RegdNo\n",
    "        self.marks = marks\n",
    "    \n",
    "    def display(self):\n",
    "        x = 25                         # Local Variable for temporary purpose\n",
    "        print(\"The Student Name is :\", self.name)\n",
    "        print(\"The Student Regd No is :\", self.RegdNo)\n",
    "        print(\"The Student marks are :\", self.marks+x)\n",
    "    \n",
    "    \n",
    "t1 = Student(\"praveen\", 101, 111)\n",
    "t2 = Student(\"ram\", 102, 222)\n",
    "t3 = Student(\"Som\", 103, 3333)\n",
    "t1.display()\n",
    "t2.display()\n",
    "t3.display()"
   ]
  },
  {
   "cell_type": "markdown",
   "id": "e1875e78",
   "metadata": {},
   "source": [
    "# 1. Instance Method ( # Self is must in instance method )"
   ]
  },
  {
   "cell_type": "code",
   "execution_count": 24,
   "id": "c4bc2207",
   "metadata": {},
   "outputs": [
    {
     "name": "stdout",
     "output_type": "stream",
     "text": [
      "The Student Name is : praveen\n",
      "The Student Regd No is : 101\n",
      "The Student marks are : 111\n",
      "The Student Name is : ram\n",
      "The Student Regd No is : 102\n",
      "The Student marks are : 222\n",
      "The Student Name is : Som\n",
      "The Student Regd No is : 103\n",
      "The Student marks are : 3333\n"
     ]
    }
   ],
   "source": [
    "class Student:\n",
    "    def __init__(self, name, RegdNo, marks):\n",
    "        self.name = name\n",
    "        self.RegdNo = RegdNo\n",
    "        self.marks = marks\n",
    "    \n",
    "    def display(self):                   # Self is must in instance method\n",
    "        print(\"The Student Name is :\", self.name)\n",
    "        print(\"The Student Regd No is :\", self.RegdNo)\n",
    "        print(\"The Student marks are :\", self.marks)\n",
    "    \n",
    "    \n",
    "t1 = Student(\"praveen\", 101, 111)\n",
    "t2 = Student(\"ram\", 102, 222)\n",
    "t3 = Student(\"Som\", 103, 3333)\n",
    "t1.display()\n",
    "t2.display()\n",
    "t3.display()"
   ]
  },
  {
   "cell_type": "markdown",
   "id": "194f91a0",
   "metadata": {},
   "source": [
    "# 2.Class Method"
   ]
  },
  {
   "cell_type": "code",
   "execution_count": 35,
   "id": "3720dbef",
   "metadata": {},
   "outputs": [
    {
     "name": "stdout",
     "output_type": "stream",
     "text": [
      "The Student Name is : praveen\n",
      "The Student Regd No is : 101\n",
      "The Student marks are : 111\n",
      "The Student Name is : ram\n",
      "The Student Regd No is : 102\n",
      "The Student marks are : 222\n",
      "The Student Name is : Som\n",
      "The Student Regd No is : 103\n",
      "The Student marks are : 3333\n",
      "The College Name is :  TechieTech\n",
      "The College Name is :  TechieTech\n"
     ]
    }
   ],
   "source": [
    "class Student:\n",
    "    collegename = \"TechieTech\"             \n",
    "    def __init__(self, name, RegdNo, marks):\n",
    "        self.name = name\n",
    "        self.RegdNo = RegdNo\n",
    "        self.marks = marks\n",
    "    \n",
    "    def display(self):\n",
    "        print(\"The Student Name is :\", self.name)\n",
    "        print(\"The Student Regd No is :\", self.RegdNo)\n",
    "        print(\"The Student marks are :\", self.marks)\n",
    "    \n",
    "    @classmethod\n",
    "    def getCollegeName(cls):     \n",
    "        print(\"The College Name is : \", cls.collegename)   # Inplace of 'cls', we can put any other name \n",
    "                                                           # (like'x, 'blex', etc). But 'classmethod' is \n",
    "                                                           # mandatory to indicate as 'class method'.\n",
    "        \n",
    "t1 = Student(\"praveen\", 101, 111)\n",
    "t2 = Student(\"ram\", 102, 222)\n",
    "t3 = Student(\"Som\", 103, 3333)\n",
    "t1.display()\n",
    "t2.display()\n",
    "t3.display()\n",
    "t1.getCollegeName()\n",
    "Student.getCollegeName()"
   ]
  },
  {
   "cell_type": "markdown",
   "id": "b5ec4c47",
   "metadata": {},
   "source": [
    "# 3. Static Method / Local Method"
   ]
  },
  {
   "cell_type": "code",
   "execution_count": 42,
   "id": "b01af6e9",
   "metadata": {},
   "outputs": [
    {
     "name": "stdout",
     "output_type": "stream",
     "text": [
      "The Student Name is : praveen\n",
      "The Student Regd No is : 101\n",
      "The Student marks are : 111\n",
      "The Student Name is : ram\n",
      "The Student Regd No is : 102\n",
      "The Student marks are : 222\n",
      "The Student Name is : Som\n",
      "The Student Regd No is : 103\n",
      "The Student marks are : 3333\n",
      "The College Name is :  TechieTech\n",
      "The College Name is :  TechieTech\n",
      "The Average of given Numbers : 3.5\n",
      "The Average of given Numbers : 3.5\n"
     ]
    }
   ],
   "source": [
    "class Student:\n",
    "    collegename = \"TechieTech\"             \n",
    "    def __init__(self, name, RegdNo, marks):\n",
    "        self.name = name\n",
    "        self.RegdNo = RegdNo\n",
    "        self.marks = marks\n",
    "    \n",
    "    def display(self):\n",
    "        print(\"The Student Name is :\", self.name)\n",
    "        print(\"The Student Regd No is :\", self.RegdNo)\n",
    "        print(\"The Student marks are :\", self.marks)\n",
    "    \n",
    "    @classmethod\n",
    "    def getCollegeName(cls):     \n",
    "        print(\"The College Name is : \", cls.collegename)   # Inplace of 'cls', we can put any other name \n",
    "                                                           # (like'x, 'blex', etc). But 'classmethod' is \n",
    "                                                           # mandatory to indicate as 'class method'.\n",
    "    @staticmethod\n",
    "    def Average(x,y):                                      # Static Method or Utility Method or Local Method\n",
    "        print('The Average of given Numbers :', (x+y)/2)\n",
    "        \n",
    "t1 = Student(\"praveen\", 101, 111)\n",
    "t2 = Student(\"ram\", 102, 222)\n",
    "t3 = Student(\"Som\", 103, 3333)\n",
    "t1.display()\n",
    "t2.display()\n",
    "t3.display()\n",
    "\n",
    "t1.getCollegeName()\n",
    "Student.getCollegeName()\n",
    "\n",
    "t1.Average(3,4)\n",
    "Student.Average(3,4)"
   ]
  },
  {
   "cell_type": "code",
   "execution_count": 43,
   "id": "6072c453",
   "metadata": {},
   "outputs": [
    {
     "name": "stdout",
     "output_type": "stream",
     "text": [
      "The Student Name is : praveen\n",
      "The Student Regd No is : 101\n",
      "The Student marks are : 111\n",
      "The Student Name is : ram\n",
      "The Student Regd No is : 102\n",
      "The Student marks are : 222\n",
      "The Student Name is : Som\n",
      "The Student Regd No is : 103\n",
      "The Student marks are : 3333\n",
      "The College Name is :  TechieTech\n",
      "The College Name is :  TechieTech\n",
      "The Average of given Numbers : 3.5\n"
     ]
    }
   ],
   "source": [
    "class Student:\n",
    "    collegename = \"TechieTech\"             \n",
    "    def __init__(self, name, RegdNo, marks):\n",
    "        self.name = name\n",
    "        self.RegdNo = RegdNo\n",
    "        self.marks = marks\n",
    "    \n",
    "    def display(self):\n",
    "        print(\"The Student Name is :\", self.name)\n",
    "        print(\"The Student Regd No is :\", self.RegdNo)\n",
    "        print(\"The Student marks are :\", self.marks)\n",
    "    \n",
    "    @classmethod\n",
    "    def getCollegeName(cls):     \n",
    "        print(\"The College Name is : \", cls.collegename)   # Inplace of 'cls', we can put any other name \n",
    "                                                           # (like'x, 'blex', etc). But 'classmethod' is \n",
    "                                                           # mandatory to indicate as 'class method'.\n",
    "   \n",
    "    def Average(x,y):                                      # Static Method or Utility Method or Local Method\n",
    "        print('The Average of given Numbers :', (x+y)/2)\n",
    "        \n",
    "t1 = Student(\"praveen\", 101, 111)\n",
    "t2 = Student(\"ram\", 102, 222)\n",
    "t3 = Student(\"Som\", 103, 3333)\n",
    "t1.display()\n",
    "t2.display()\n",
    "t3.display()\n",
    "\n",
    "t1.getCollegeName()\n",
    "Student.getCollegeName()\n",
    "\n",
    "Student.Average(3,4)"
   ]
  }
 ],
 "metadata": {
  "kernelspec": {
   "display_name": "Python 3",
   "language": "python",
   "name": "python3"
  },
  "language_info": {
   "codemirror_mode": {
    "name": "ipython",
    "version": 3
   },
   "file_extension": ".py",
   "mimetype": "text/x-python",
   "name": "python",
   "nbconvert_exporter": "python",
   "pygments_lexer": "ipython3",
   "version": "3.8.8"
  }
 },
 "nbformat": 4,
 "nbformat_minor": 5
}
