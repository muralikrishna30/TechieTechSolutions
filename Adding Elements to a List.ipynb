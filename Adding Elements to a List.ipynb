{
 "cells": [
  {
   "cell_type": "markdown",
   "id": "d672d3e2",
   "metadata": {},
   "source": [
    "# Adding Elements to a List"
   ]
  },
  {
   "cell_type": "code",
   "execution_count": 6,
   "id": "763a2046",
   "metadata": {},
   "outputs": [
    {
     "name": "stdout",
     "output_type": "stream",
     "text": [
      "Enter the Number of elements to be added in the List : 5\n",
      "Enter the Element : e\n",
      "Enter the Element : r\n",
      "Enter the Element : 2\n",
      "Enter the Element : 3\n",
      "Enter the Element : er\n",
      "\n",
      "The List is:  ['e', 'r', '2', '3', 'er']\n"
     ]
    }
   ],
   "source": [
    "l = []\n",
    "n = int(input(\"Enter the Number of elements to be added in the List : \"))\n",
    "for i in range(n):\n",
    "    a = input(\"Enter the Element : \")\n",
    "    l.append(a)\n",
    "print(\"\\nThe List is: \", l)"
   ]
  }
 ],
 "metadata": {
  "kernelspec": {
   "display_name": "Python 3",
   "language": "python",
   "name": "python3"
  },
  "language_info": {
   "codemirror_mode": {
    "name": "ipython",
    "version": 3
   },
   "file_extension": ".py",
   "mimetype": "text/x-python",
   "name": "python",
   "nbconvert_exporter": "python",
   "pygments_lexer": "ipython3",
   "version": "3.8.8"
  }
 },
 "nbformat": 4,
 "nbformat_minor": 5
}
