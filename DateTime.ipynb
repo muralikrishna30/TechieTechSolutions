{
 "cells": [
  {
   "cell_type": "markdown",
   "id": "6dd4f1d6",
   "metadata": {},
   "source": [
    "# DATE TIME"
   ]
  },
  {
   "cell_type": "code",
   "execution_count": 1,
   "id": "ec3734a7",
   "metadata": {},
   "outputs": [
    {
     "name": "stdout",
     "output_type": "stream",
     "text": [
      "2016-07-24\n"
     ]
    }
   ],
   "source": [
    "import datetime\n",
    "\n",
    "d1 = datetime.date(2016,7,24)\n",
    "print(d1)"
   ]
  },
  {
   "cell_type": "code",
   "execution_count": 2,
   "id": "cfff0908",
   "metadata": {},
   "outputs": [
    {
     "name": "stdout",
     "output_type": "stream",
     "text": [
      "2021-11-21\n",
      "21\n",
      "6\n",
      "7\n"
     ]
    }
   ],
   "source": [
    "import datetime\n",
    "\n",
    "tday = datetime.date.today()\n",
    "print(tday)\n",
    "print(tday.day)\n",
    "print(tday.weekday())\n",
    "print(tday.isoweekday())\n"
   ]
  },
  {
   "cell_type": "code",
   "execution_count": 3,
   "id": "904e3590",
   "metadata": {},
   "outputs": [
    {
     "name": "stdout",
     "output_type": "stream",
     "text": [
      "2021-11-21\n",
      "2021-11-28\n",
      "2021-11-14\n"
     ]
    }
   ],
   "source": [
    "import datetime\n",
    "\n",
    "tday = datetime.date.today()\n",
    "print(tday)\n",
    "\n",
    "tdelta = datetime.timedelta(days = 7)\n",
    "print(tday+tdelta)\n",
    "print(tday-tdelta)"
   ]
  },
  {
   "cell_type": "code",
   "execution_count": 23,
   "id": "5dbbe752",
   "metadata": {},
   "outputs": [
    {
     "name": "stdout",
     "output_type": "stream",
     "text": [
      "2021-11-14\n",
      "-18033 days, 0:00:00\n",
      "-18033\n",
      "-1558051200.0\n"
     ]
    }
   ],
   "source": [
    "import datetime\n",
    "\n",
    "tday = datetime.date.today()\n",
    "print(tday)\n",
    "\n",
    "bday = datetime.date(1972,7,1)\n",
    "till_day = bday - tday\n",
    "print(till_day)\n",
    "print(till_day.days)\n",
    "print(till_day.total_seconds())"
   ]
  },
  {
   "cell_type": "code",
   "execution_count": 25,
   "id": "caa834ab",
   "metadata": {},
   "outputs": [
    {
     "name": "stdout",
     "output_type": "stream",
     "text": [
      "09:30:45.001000\n",
      "9\n"
     ]
    }
   ],
   "source": [
    "import datetime\n",
    "t = datetime.time(9,30,45,1000)\n",
    "print(t)\n",
    "print(t.hour)"
   ]
  },
  {
   "cell_type": "code",
   "execution_count": 34,
   "id": "cb4218e1",
   "metadata": {},
   "outputs": [
    {
     "name": "stdout",
     "output_type": "stream",
     "text": [
      "2016-07-12 06:11:25.010000\n",
      "2016-07-12\n",
      "06:11:25.010000\n",
      "2016\n",
      "7\n"
     ]
    }
   ],
   "source": [
    "import datetime\n",
    "dt = datetime.datetime(2016,7,12,6,11,25,10000)\n",
    "print(dt)\n",
    "print(dt.date())\n",
    "print(dt.time())\n",
    "print(dt.year)\n",
    "print(dt.month)"
   ]
  },
  {
   "cell_type": "code",
   "execution_count": 38,
   "id": "21ae12d8",
   "metadata": {},
   "outputs": [
    {
     "name": "stdout",
     "output_type": "stream",
     "text": [
      "2016-07-12 06:11:25.010000\n",
      "2016-07-19 06:11:25.010000\n",
      "2016-07-05 06:11:25.010000\n"
     ]
    }
   ],
   "source": [
    "import datetime\n",
    "dt = datetime.datetime(2016,7,12,6,11,25,10000)\n",
    "tdelta = datetime.timedelta(days = 7)\n",
    "print(dt)\n",
    "print(dt+tdelta)\n",
    "print(dt-tdelta)"
   ]
  },
  {
   "cell_type": "code",
   "execution_count": 39,
   "id": "1f7a8e54",
   "metadata": {},
   "outputs": [
    {
     "name": "stdout",
     "output_type": "stream",
     "text": [
      "2016-07-12 06:11:25.010000\n",
      "2016-07-12 18:11:25.010000\n",
      "2016-07-11 18:11:25.010000\n"
     ]
    }
   ],
   "source": [
    "import datetime\n",
    "dt = datetime.datetime(2016,7,12,6,11,25,10000)\n",
    "tdelta = datetime.timedelta(hours = 12)\n",
    "print(dt)\n",
    "print(dt+tdelta)\n",
    "print(dt-tdelta)"
   ]
  },
  {
   "cell_type": "code",
   "execution_count": 41,
   "id": "321dde20",
   "metadata": {},
   "outputs": [
    {
     "name": "stdout",
     "output_type": "stream",
     "text": [
      "2021-11-14 21:02:46.625343\n",
      "2021-11-14 21:02:46.625343\n",
      "2021-11-14 15:32:46.625343\n"
     ]
    }
   ],
   "source": [
    "import datetime\n",
    "\n",
    "dt_today = datetime.datetime.today()\n",
    "dt_now = datetime.datetime.now()\n",
    "dt_utcnow = datetime.datetime.utcnow()\n",
    "print(dt_today)\n",
    "print(dt_now)\n",
    "print(dt_utcnow)"
   ]
  },
  {
   "cell_type": "code",
   "execution_count": 43,
   "id": "9b229566",
   "metadata": {},
   "outputs": [
    {
     "name": "stdout",
     "output_type": "stream",
     "text": [
      "2016-07-27 06:05:45+00:00\n",
      "2021-11-14 15:41:19.851614+00:00\n"
     ]
    }
   ],
   "source": [
    "import datetime\n",
    "import pytz\n",
    "dt = datetime.datetime(2016,7,27,6,5,45,tzinfo = pytz.UTC)\n",
    "print(dt)\n",
    "\n",
    "dt_now = datetime.datetime.now(tz = pytz.UTC)\n",
    "print(dt_now)"
   ]
  },
  {
   "cell_type": "code",
   "execution_count": null,
   "id": "acb0b47f",
   "metadata": {},
   "outputs": [],
   "source": []
  }
 ],
 "metadata": {
  "kernelspec": {
   "display_name": "Python 3",
   "language": "python",
   "name": "python3"
  },
  "language_info": {
   "codemirror_mode": {
    "name": "ipython",
    "version": 3
   },
   "file_extension": ".py",
   "mimetype": "text/x-python",
   "name": "python",
   "nbconvert_exporter": "python",
   "pygments_lexer": "ipython3",
   "version": "3.8.8"
  }
 },
 "nbformat": 4,
 "nbformat_minor": 5
}
