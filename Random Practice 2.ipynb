{
 "cells": [
  {
   "cell_type": "code",
   "execution_count": 1,
   "id": "9bb6ec90",
   "metadata": {},
   "outputs": [
    {
     "name": "stdout",
     "output_type": "stream",
     "text": [
      "0,1,1,2,3,5,8,"
     ]
    }
   ],
   "source": [
    "# Fibonacci series: (The sum of two elements defines the next)\n",
    "\n",
    "a, b = 0, 1\n",
    "while a < 10:\n",
    "    print(a, end = \",\")\n",
    "    a, b = b, a+b"
   ]
  },
  {
   "cell_type": "code",
   "execution_count": 8,
   "id": "4a3920aa",
   "metadata": {},
   "outputs": [
    {
     "name": "stdout",
     "output_type": "stream",
     "text": [
      "0,1,1,2,3,5,8,13,21,34,55,89,144,233,377,610,987,"
     ]
    }
   ],
   "source": [
    "a, b = 0, 1\n",
    "while a < 1000:\n",
    "    print(a, end=',')\n",
    "    a, b = b, a+b"
   ]
  },
  {
   "cell_type": "code",
   "execution_count": 3,
   "id": "1b7e2d8e",
   "metadata": {},
   "outputs": [
    {
     "name": "stdout",
     "output_type": "stream",
     "text": [
      "The value of i is  65536\n"
     ]
    }
   ],
   "source": [
    "i = 256*256\n",
    "print(\"The value of i is \", i)"
   ]
  },
  {
   "cell_type": "code",
   "execution_count": 3,
   "id": "62da0cc8",
   "metadata": {},
   "outputs": [
    {
     "name": "stdout",
     "output_type": "stream",
     "text": [
      "Please enter an integer: -8\n",
      "Negative changed to zero\n"
     ]
    }
   ],
   "source": [
    "x = int(input(\"Please enter an integer: \"))\n",
    "\n",
    "if x < 0:\n",
    "    x = 0\n",
    "    print('Negative changed to zero')\n",
    "elif x == 0:\n",
    "    print('Zero')\n",
    "elif x == 1:\n",
    "    print('Single')\n",
    "else:\n",
    "    print('More')"
   ]
  },
  {
   "cell_type": "code",
   "execution_count": 4,
   "id": "c901cdb8",
   "metadata": {},
   "outputs": [
    {
     "name": "stdout",
     "output_type": "stream",
     "text": [
      "cat 3\n",
      "window 6\n",
      "defenestrate 12\n",
      "1 cat\n",
      "2 window\n",
      "3 defenestrate\n"
     ]
    }
   ],
   "source": [
    "words = ['cat', 'window', 'defenestrate']\n",
    "for w in words:\n",
    "    print(w, len(w))\n",
    "\n",
    "for i in range(len(words)):\n",
    "    print(i+1, words[i])"
   ]
  },
  {
   "cell_type": "code",
   "execution_count": 6,
   "id": "66bddf7e",
   "metadata": {},
   "outputs": [
    {
     "name": "stdout",
     "output_type": "stream",
     "text": [
      "0,1,2,3,4,"
     ]
    }
   ],
   "source": [
    "for i in range(5):\n",
    "    print(i, end = \",\")"
   ]
  },
  {
   "cell_type": "code",
   "execution_count": 20,
   "id": "79934614",
   "metadata": {},
   "outputs": [
    {
     "data": {
      "text/plain": [
       "[5, 6, 7, 8, 9]"
      ]
     },
     "execution_count": 20,
     "metadata": {},
     "output_type": "execute_result"
    }
   ],
   "source": [
    "list(range(5, 10))"
   ]
  },
  {
   "cell_type": "code",
   "execution_count": 21,
   "id": "e0b4f59a",
   "metadata": {},
   "outputs": [
    {
     "data": {
      "text/plain": [
       "[0, 3, 6, 9]"
      ]
     },
     "execution_count": 21,
     "metadata": {},
     "output_type": "execute_result"
    }
   ],
   "source": [
    "list(range(0, 10, 3))"
   ]
  },
  {
   "cell_type": "code",
   "execution_count": 22,
   "id": "7d185959",
   "metadata": {},
   "outputs": [
    {
     "data": {
      "text/plain": [
       "[-10, -40, -70]"
      ]
     },
     "execution_count": 22,
     "metadata": {},
     "output_type": "execute_result"
    }
   ],
   "source": [
    "list(range(-10, -100, -30))"
   ]
  },
  {
   "cell_type": "code",
   "execution_count": 24,
   "id": "c5b0d320",
   "metadata": {},
   "outputs": [
    {
     "name": "stdout",
     "output_type": "stream",
     "text": [
      "1 Mary\n",
      "2 had\n",
      "3 a\n",
      "4 little\n",
      "5 lamb\n"
     ]
    }
   ],
   "source": [
    "a = ['Mary', 'had', 'a', 'little', 'lamb']\n",
    "for i in range(len(a)):\n",
    "    print(i+1, a[i])"
   ]
  },
  {
   "cell_type": "code",
   "execution_count": 25,
   "id": "a0302075",
   "metadata": {},
   "outputs": [
    {
     "data": {
      "text/plain": [
       "range(0, 10)"
      ]
     },
     "execution_count": 25,
     "metadata": {},
     "output_type": "execute_result"
    }
   ],
   "source": [
    "range(10)"
   ]
  },
  {
   "cell_type": "code",
   "execution_count": 26,
   "id": "db9bfc14",
   "metadata": {},
   "outputs": [
    {
     "data": {
      "text/plain": [
       "6"
      ]
     },
     "execution_count": 26,
     "metadata": {},
     "output_type": "execute_result"
    }
   ],
   "source": [
    "sum(range(4))"
   ]
  },
  {
   "cell_type": "code",
   "execution_count": 19,
   "id": "f3cb24a4",
   "metadata": {},
   "outputs": [
    {
     "name": "stdout",
     "output_type": "stream",
     "text": [
      "2 is a prime number\n",
      "3 is a prime number\n",
      "4 equals 2 * 4\n",
      "5 is a prime number\n",
      "6 equals 2 * 6\n",
      "7 is a prime number\n",
      "8 equals 2 * 8\n",
      "9 equals 3 * 9\n"
     ]
    }
   ],
   "source": [
    "# Find the Numbers (from 2 to n) are primes or not.\n",
    "for n in range(2, 10):\n",
    "    for x in range(2, n):\n",
    "        if n % x == 0:\n",
    "            print(n, 'equals', x, '*', n)\n",
    "            break\n",
    "    else:\n",
    "        print(n, 'is a prime number')"
   ]
  },
  {
   "cell_type": "code",
   "execution_count": 18,
   "id": "055eef3c",
   "metadata": {},
   "outputs": [
    {
     "name": "stdout",
     "output_type": "stream",
     "text": [
      "The Number 2 is a prime  Number\n",
      "The Number 3 is a prime  Number\n",
      "The Number 4 is not a prime Number\n",
      "The Number 5 is a prime  Number\n",
      "The Number 6 is not a prime Number\n",
      "The Number 7 is a prime  Number\n",
      "The Number 8 is not a prime Number\n",
      "The Number 9 is not a prime Number\n"
     ]
    }
   ],
   "source": [
    "for n in range(2,10):\n",
    "    for i in range(2,n):\n",
    "        if n%i==0:\n",
    "            print(\"The Number\", n, \"is not a prime Number\")\n",
    "            break\n",
    "    else:\n",
    "        print('The Number', n, \"is a prime  Number\")"
   ]
  },
  {
   "cell_type": "code",
   "execution_count": 11,
   "id": "59bee60d",
   "metadata": {},
   "outputs": [
    {
     "name": "stdout",
     "output_type": "stream",
     "text": [
      "Enter the Number: 8\n",
      "\n",
      "\n",
      "The given Number is even number !\n"
     ]
    }
   ],
   "source": [
    "a = int(input('Enter the Number: '))\n",
    "print(\"\\n\")\n",
    "if a%2 ==0:\n",
    "    print('The given Number is even number !')\n",
    "else:\n",
    "    print('The given number is an odd number !')\n"
   ]
  },
  {
   "cell_type": "code",
   "execution_count": 12,
   "id": "93daef93",
   "metadata": {},
   "outputs": [
    {
     "name": "stdout",
     "output_type": "stream",
     "text": [
      "Found an even number 2\n",
      "Found an odd number 3\n",
      "Found an even number 4\n",
      "Found an odd number 5\n",
      "Found an even number 6\n",
      "Found an odd number 7\n",
      "Found an even number 8\n",
      "Found an odd number 9\n"
     ]
    }
   ],
   "source": [
    "for num in range(2, 10):\n",
    "    if num % 2 == 0:\n",
    "        print(\"Found an even number\", num)\n",
    "        continue\n",
    "    print(\"Found an odd number\", num)"
   ]
  },
  {
   "cell_type": "code",
   "execution_count": 22,
   "id": "3350649a",
   "metadata": {},
   "outputs": [
    {
     "name": "stdout",
     "output_type": "stream",
     "text": [
      "the Number 2 is even number\n",
      "the Number 3 is Odd number\n",
      "the Number 4 is even number\n",
      "the Number 5 is Odd number\n",
      "the Number 6 is even number\n",
      "the Number 7 is Odd number\n",
      "the Number 8 is even number\n",
      "the Number 9 is Odd number\n"
     ]
    }
   ],
   "source": [
    "for n in range(2,10):\n",
    "    if n%2==0:\n",
    "        print(\"the Number\", n, \"is even number\")\n",
    "    else:\n",
    "        print(\"the Number\", n, \"is Odd number\")"
   ]
  },
  {
   "cell_type": "code",
   "execution_count": 13,
   "id": "df4881e0",
   "metadata": {},
   "outputs": [
    {
     "name": "stdout",
     "output_type": "stream",
     "text": [
      "Found an even number 2\n",
      "Found an odd number 3\n",
      "Found an even number 4\n",
      "Found an odd number 5\n",
      "Found an even number 6\n",
      "Found an odd number 7\n",
      "Found an even number 8\n",
      "Found an odd number 9\n"
     ]
    }
   ],
   "source": [
    "for num in range(2, 10):\n",
    "    if num % 2 == 0:\n",
    "        print(\"Found an even number\", num)\n",
    "    else:\n",
    "        print(\"Found an odd number\", num)"
   ]
  }
 ],
 "metadata": {
  "kernelspec": {
   "display_name": "Python 3",
   "language": "python",
   "name": "python3"
  },
  "language_info": {
   "codemirror_mode": {
    "name": "ipython",
    "version": 3
   },
   "file_extension": ".py",
   "mimetype": "text/x-python",
   "name": "python",
   "nbconvert_exporter": "python",
   "pygments_lexer": "ipython3",
   "version": "3.8.8"
  }
 },
 "nbformat": 4,
 "nbformat_minor": 5
}
