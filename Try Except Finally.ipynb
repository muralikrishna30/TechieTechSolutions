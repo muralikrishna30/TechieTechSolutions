{
 "cells": [
  {
   "cell_type": "code",
   "execution_count": 5,
   "id": "7587138a",
   "metadata": {},
   "outputs": [
    {
     "name": "stdout",
     "output_type": "stream",
     "text": [
      "Name is not defined properly...\n",
      "\n",
      "Give me a Chance to Change it !\n"
     ]
    }
   ],
   "source": [
    "try:\n",
    "    print(a)\n",
    "except NameError:\n",
    "    print(\"Name is not defined properly...\")\n",
    "finally:\n",
    "    print(\"\\nGive me a Chance to Change it !\")"
   ]
  },
  {
   "cell_type": "code",
   "execution_count": 16,
   "id": "0f1a0e25",
   "metadata": {},
   "outputs": [
    {
     "name": "stdout",
     "output_type": "stream",
     "text": [
      "Enter the values: 2569\n",
      "\n",
      "The Number is : 2569\n",
      "\n",
      "Please give me a change to correct the Code, if the input is other than digits... !!!!\n"
     ]
    }
   ],
   "source": [
    "try:\n",
    "    num = int(input(\"Enter the values: \"))\n",
    "    print(\"\\nThe Number is :\", num)\n",
    "except ValueError:\n",
    "    print(\"\\nPlease Enter the Digitals Only .....\")\n",
    "finally:\n",
    "    print(\"\\nPlease give me a change to correct the Code, if the input is other than digits... !!!!\")"
   ]
  },
  {
   "cell_type": "code",
   "execution_count": 27,
   "id": "29d01d26",
   "metadata": {},
   "outputs": [
    {
     "name": "stdout",
     "output_type": "stream",
     "text": [
      "Enter the Total Marks Obtained in the Exams : 256\n",
      "\n",
      "Enter the Total Marks for the Exams :500\n",
      "\n",
      "The Percentage is: 51.2\n",
      "\n",
      "Thanks for using Our Services...\n"
     ]
    }
   ],
   "source": [
    "try:\n",
    "    marks = int(input(\"Enter the Total Marks Obtained in the Exams : \"))\n",
    "    total = int(input(\"\\nEnter the Total Marks for the Exams :\"))\n",
    "    percentage = (marks/total)*100\n",
    "    print(\"\\nThe Percentage is:\", percentage)\n",
    "except ValueError:\n",
    "    print(\"\\nPlease Enter the Correct Values only ....\")\n",
    "    print(\"\\nPlease start the program again !!!!\")\n",
    "except ZeroDivisionError:\n",
    "    print(\"\\nPlease Enter the Denominator Value Correctly...\")\n",
    "    print(\"\\nPlease start the program again !!!!\")\n",
    "finally:\n",
    "    print(\"\\nThanks for using Our Services...\")"
   ]
  },
  {
   "cell_type": "code",
   "execution_count": null,
   "id": "e9640228",
   "metadata": {},
   "outputs": [],
   "source": []
  }
 ],
 "metadata": {
  "kernelspec": {
   "display_name": "Python 3",
   "language": "python",
   "name": "python3"
  },
  "language_info": {
   "codemirror_mode": {
    "name": "ipython",
    "version": 3
   },
   "file_extension": ".py",
   "mimetype": "text/x-python",
   "name": "python",
   "nbconvert_exporter": "python",
   "pygments_lexer": "ipython3",
   "version": "3.8.8"
  }
 },
 "nbformat": 4,
 "nbformat_minor": 5
}
