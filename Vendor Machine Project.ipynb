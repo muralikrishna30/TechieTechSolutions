{
 "cells": [
  {
   "cell_type": "markdown",
   "id": "8dbd7f7b",
   "metadata": {},
   "source": [
    "# Candies Vendor Machine Program !!"
   ]
  },
  {
   "cell_type": "code",
   "execution_count": 11,
   "id": "95eacf2f",
   "metadata": {},
   "outputs": [
    {
     "name": "stdout",
     "output_type": "stream",
     "text": [
      "Enter the number of Candies Required :8\n",
      "\n",
      "The Candies supplied are: \n",
      "\n",
      "1\n",
      "2\n",
      "3\n",
      "4\n",
      "5\n",
      "\n",
      "Out of Stock  !! Kindly Accpet the available Stock :  5\n",
      "\n",
      "The Balance Candies  3  can be supplies to your home on order !!\n",
      "\n",
      "Thank You !! Visit Again !!!\n"
     ]
    }
   ],
   "source": [
    "x = int(input(\"Enter the number of Candies Required :\"))\n",
    "print(\"\\nThe Candies supplied are: \")\n",
    "print()\n",
    "av = 5\n",
    "i =1\n",
    "while i<=x:\n",
    "    if i>av:\n",
    "        print(\"\\nOut of Stock  !! Kindly Accpet the available Stock : \", av)\n",
    "        print(\"\\nThe Balance Candies \", x-av, \" can be supplies to your home on order !!\" )\n",
    "        break\n",
    "    print(i)\n",
    "    i+=1\n",
    "    \n",
    "print(\"\\nThank You !! Visit Again !!!\")\n",
    "print()"
   ]
  }
 ],
 "metadata": {
  "kernelspec": {
   "display_name": "Python 3",
   "language": "python",
   "name": "python3"
  },
  "language_info": {
   "codemirror_mode": {
    "name": "ipython",
    "version": 3
   },
   "file_extension": ".py",
   "mimetype": "text/x-python",
   "name": "python",
   "nbconvert_exporter": "python",
   "pygments_lexer": "ipython3",
   "version": "3.8.8"
  }
 },
 "nbformat": 4,
 "nbformat_minor": 5
}
