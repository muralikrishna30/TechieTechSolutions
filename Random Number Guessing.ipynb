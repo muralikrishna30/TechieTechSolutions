{
 "cells": [
  {
   "cell_type": "markdown",
   "id": "18c47c6f",
   "metadata": {},
   "source": [
    "# Number Guessing using the random Project"
   ]
  },
  {
   "cell_type": "code",
   "execution_count": 4,
   "id": "39a43445",
   "metadata": {},
   "outputs": [
    {
     "name": "stdout",
     "output_type": "stream",
     "text": [
      "Hi ! Please Enter Your Name : Murali Krishna\n",
      "\n",
      "Helloo ! Murali Krishna ......   How are You ? I hope you are Ready for playing game with me !\n",
      "\n",
      "Enter the Least Number to be taken :5\n",
      "\n",
      "Enter the Highest Number to be taken :9\n",
      "\n",
      "Enter the Number of Guesses You Require : 3\n",
      "\n",
      "Please Guess My number between 5 to 9: 6\n",
      "\n",
      "Your Number is Low .....\n",
      "\n",
      "Please Guess My number between 5 to 9: 7\n",
      "\n",
      "Your Number is Low .....\n",
      "\n",
      "Please Guess My number between 5 to 9: 8\n",
      "\n",
      "Your Number is Correct !! Congratulations !!!!!\n",
      "\n",
      "The Number that I was Selected is :  8\n"
     ]
    }
   ],
   "source": [
    "import random\n",
    "\n",
    "name = input(\"Hi ! Please Enter Your Name : \")\n",
    "print(\"\\nHelloo !\", name, \"......   How are You ? I hope you are Ready for playing game with me !\")\n",
    "n1 = int(input('\\nEnter the Least Number to be taken :'))\n",
    "n2 = int(input('\\nEnter the Highest Number to be taken :'))\n",
    "a = int(input(\"\\nEnter the Number of Guesses You Require : \"))\n",
    "count = 0\n",
    "number = random.randint(n1,n2)\n",
    "while count <a:\n",
    "    guess = int(input(\"\\nPlease Guess My Selected number between {} to {}: \". format(n1,n2)))\n",
    "    count +=1\n",
    "    if guess < number:\n",
    "        print(\"\\nYour Number is Low .....\")\n",
    "    elif guess > number:\n",
    "        print(\"\\nYour Number is High .....\")\n",
    "    elif guess == number:\n",
    "        print(\"\\nYour Number is Correct !! Congratulations !!!!!\")\n",
    "        break\n",
    "    elif count == a:\n",
    "        break\n",
    "              \n",
    "print(\"\\nThe Number that I was Selected is : \", number)"
   ]
  }
 ],
 "metadata": {
  "kernelspec": {
   "display_name": "Python 3",
   "language": "python",
   "name": "python3"
  },
  "language_info": {
   "codemirror_mode": {
    "name": "ipython",
    "version": 3
   },
   "file_extension": ".py",
   "mimetype": "text/x-python",
   "name": "python",
   "nbconvert_exporter": "python",
   "pygments_lexer": "ipython3",
   "version": "3.8.8"
  }
 },
 "nbformat": 4,
 "nbformat_minor": 5
}
