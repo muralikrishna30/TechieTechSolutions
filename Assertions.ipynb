{
 "cells": [
  {
   "cell_type": "markdown",
   "id": "bf675fb2",
   "metadata": {},
   "source": [
    "# Assertions"
   ]
  },
  {
   "cell_type": "code",
   "execution_count": 33,
   "id": "9cd41e57",
   "metadata": {},
   "outputs": [
    {
     "name": "stdout",
     "output_type": "stream",
     "text": [
      "823543\n",
      "387420489\n",
      "285311670611\n"
     ]
    }
   ],
   "source": [
    "def sqrt(x):\n",
    "    return x**x\n",
    "\n",
    "print(sqrt(7))\n",
    "print(sqrt(9))\n",
    "print(sqrt(11))"
   ]
  },
  {
   "cell_type": "markdown",
   "id": "756da4c1",
   "metadata": {},
   "source": [
    "## The Outpur is Something wrong..It Seems...\n",
    "## So, Introduced the Assertions."
   ]
  },
  {
   "cell_type": "code",
   "execution_count": 34,
   "id": "0c991e2b",
   "metadata": {},
   "outputs": [
    {
     "ename": "AssertionError",
     "evalue": "The Square of 4 ahould be 16",
     "output_type": "error",
     "traceback": [
      "\u001b[1;31m---------------------------------------------------------------------------\u001b[0m",
      "\u001b[1;31mAssertionError\u001b[0m                            Traceback (most recent call last)",
      "\u001b[1;32m<ipython-input-34-7385467a9ecd>\u001b[0m in \u001b[0;36m<module>\u001b[1;34m\u001b[0m\n\u001b[0;32m      2\u001b[0m     \u001b[1;32mreturn\u001b[0m \u001b[0mx\u001b[0m\u001b[1;33m**\u001b[0m\u001b[0mx\u001b[0m\u001b[1;33m\u001b[0m\u001b[1;33m\u001b[0m\u001b[0m\n\u001b[0;32m      3\u001b[0m \u001b[1;33m\u001b[0m\u001b[0m\n\u001b[1;32m----> 4\u001b[1;33m \u001b[1;32massert\u001b[0m \u001b[0msqrt\u001b[0m\u001b[1;33m(\u001b[0m\u001b[1;36m4\u001b[0m\u001b[1;33m)\u001b[0m\u001b[1;33m==\u001b[0m\u001b[1;36m16\u001b[0m\u001b[1;33m,\u001b[0m \u001b[1;34m'The Square of 4 ahould be 16'\u001b[0m\u001b[1;33m\u001b[0m\u001b[1;33m\u001b[0m\u001b[0m\n\u001b[0m\u001b[0;32m      5\u001b[0m \u001b[1;31m#assert sqrt(5)==25, 'The Square of 5 ahould be 25'\u001b[0m\u001b[1;33m\u001b[0m\u001b[1;33m\u001b[0m\u001b[1;33m\u001b[0m\u001b[0m\n\u001b[0;32m      6\u001b[0m \u001b[1;31m#assert sqrt(6)==36, 'The Square of 6 ahould be 36'\u001b[0m\u001b[1;33m\u001b[0m\u001b[1;33m\u001b[0m\u001b[1;33m\u001b[0m\u001b[0m\n",
      "\u001b[1;31mAssertionError\u001b[0m: The Square of 4 ahould be 16"
     ]
    }
   ],
   "source": [
    "def sqrt(x):\n",
    "    return x**x\n",
    "\n",
    "assert sqrt(4)==16, 'The Square of 4 ahould be 16'\n",
    "#assert sqrt(5)==25, 'The Square of 5 ahould be 25'\n",
    "#assert sqrt(6)==36, 'The Square of 6 ahould be 36'\n",
    "\n",
    "print(sqrt(7))\n",
    "print(sqrt(9))\n",
    "print(sqrt(11))"
   ]
  },
  {
   "cell_type": "markdown",
   "id": "d1869166",
   "metadata": {},
   "source": [
    "## Identified the AssertionError.\n",
    "## Made the Corrections & Got the Correct Output."
   ]
  },
  {
   "cell_type": "code",
   "execution_count": 35,
   "id": "99945dd1",
   "metadata": {},
   "outputs": [
    {
     "name": "stdout",
     "output_type": "stream",
     "text": [
      "49\n",
      "81\n",
      "121\n"
     ]
    }
   ],
   "source": [
    "def sqrt(x):\n",
    "    return x*x\n",
    "\n",
    "assert sqrt(2)==4, 'The Square of 2 ahould be 4'\n",
    "assert sqrt(3)==9, 'The Square of 3 ahould be 9'\n",
    "assert sqrt(4)==16, 'The Square of 4 ahould be 16'\n",
    "\n",
    "print(sqrt(7))\n",
    "print(sqrt(9))\n",
    "print(sqrt(11))"
   ]
  }
 ],
 "metadata": {
  "kernelspec": {
   "display_name": "Python 3",
   "language": "python",
   "name": "python3"
  },
  "language_info": {
   "codemirror_mode": {
    "name": "ipython",
    "version": 3
   },
   "file_extension": ".py",
   "mimetype": "text/x-python",
   "name": "python",
   "nbconvert_exporter": "python",
   "pygments_lexer": "ipython3",
   "version": "3.8.8"
  }
 },
 "nbformat": 4,
 "nbformat_minor": 5
}
