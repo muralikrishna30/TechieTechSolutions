{
 "cells": [
  {
   "cell_type": "code",
   "execution_count": 13,
   "id": "1b83ea92",
   "metadata": {},
   "outputs": [
    {
     "name": "stdout",
     "output_type": "stream",
     "text": [
      "Input the radius of the circle in meters : 20.365\n",
      "\n",
      "The area of the circle with radius 20.365 is 1302.9228528596025 Square meters.\n"
     ]
    }
   ],
   "source": [
    "import math\n",
    "r = float(input (\"Input the radius of the circle in meters : \"))\n",
    "print (\"\\nThe area of the circle with radius {} is {} Square meters.\".format(r,math.pi * r**2))\n"
   ]
  },
  {
   "cell_type": "code",
   "execution_count": 15,
   "id": "cba6c859",
   "metadata": {},
   "outputs": [
    {
     "name": "stdout",
     "output_type": "stream",
     "text": [
      "Enter First Name :murali\n",
      "Enter Last Name :krishna\n",
      "krishna murali"
     ]
    }
   ],
   "source": [
    "a = input('Enter First Name :')\n",
    "b = input('Enter Last Name :')\n",
    "\n",
    "print(b, end = ' ' + a)"
   ]
  },
  {
   "cell_type": "code",
   "execution_count": 18,
   "id": "957dda70",
   "metadata": {},
   "outputs": [
    {
     "name": "stdout",
     "output_type": "stream",
     "text": [
      "Enter the number of Elements in a List to be appended :5\n",
      "Enter the Element :36\n",
      "Enter the Element :6\n",
      "Enter the Element :5\n",
      "Enter the Element :6\n",
      "Enter the Element :6\n",
      "\n",
      "['36', '6', '5', '6', '6']\n",
      "\n",
      "('36', '6', '5', '6', '6')\n"
     ]
    }
   ],
   "source": [
    "l = []\n",
    "a = int(input(\"Enter the number of Elements in a List to be appended :\"))\n",
    "for i in range(a):\n",
    "    b = input(\"Enter the Element :\")\n",
    "    l.append(b)\n",
    "print()\n",
    "print(l)\n",
    "print()\n",
    "t = tuple(l)\n",
    "print(t)"
   ]
  },
  {
   "cell_type": "code",
   "execution_count": 20,
   "id": "318c5571",
   "metadata": {},
   "outputs": [
    {
     "name": "stdout",
     "output_type": "stream",
     "text": [
      "Enter the Comma seprated values :2,5,8,9,6,5,6,5,6,5\n",
      "['2', '5', '8', '9', '6', '5', '6', '5', '6', '5']\n",
      "('2', '5', '8', '9', '6', '5', '6', '5', '6', '5')\n"
     ]
    }
   ],
   "source": [
    "a = input(\"Enter the Comma seprated values :\")\n",
    "b = a.split(',')\n",
    "c = tuple(b)\n",
    "print(b)\n",
    "print(c)"
   ]
  },
  {
   "cell_type": "code",
   "execution_count": 21,
   "id": "92d82245",
   "metadata": {},
   "outputs": [
    {
     "name": "stdout",
     "output_type": "stream",
     "text": [
      "Enter the file Name: java.txt\n",
      "The extention of the File is:  txt\n"
     ]
    }
   ],
   "source": [
    "a = input(\"Enter the file Name: \")\n",
    "b = a.split('.')\n",
    "print(\"The extention of the File is: \", b[-1])"
   ]
  },
  {
   "cell_type": "code",
   "execution_count": 23,
   "id": "32bc97ed",
   "metadata": {},
   "outputs": [
    {
     "name": "stdout",
     "output_type": "stream",
     "text": [
      "The Last and First elemets of the list are :  yellow  and  red\n"
     ]
    }
   ],
   "source": [
    "colors = ['red','blue','green','orange','yellow']\n",
    "print('The Last and First elemets of the list are : ', colors[-1], ' and ',colors[0])"
   ]
  },
  {
   "cell_type": "code",
   "execution_count": 25,
   "id": "e954bcf2",
   "metadata": {},
   "outputs": [
    {
     "name": "stdout",
     "output_type": "stream",
     "text": [
      "The Exam date is 11 / 12 / 2006\n"
     ]
    }
   ],
   "source": [
    "exam_date = (11,12,2006)\n",
    "print('The Exam date is %i / %i / %i'%exam_date)"
   ]
  },
  {
   "cell_type": "code",
   "execution_count": 32,
   "id": "dcc47650",
   "metadata": {},
   "outputs": [
    {
     "name": "stdout",
     "output_type": "stream",
     "text": [
      "Enter the Number : 6\n",
      "The Value is: 738\n"
     ]
    }
   ],
   "source": [
    "a = int(input('Enter the Number : '))\n",
    "a1 = int(\"%s\" % a)\n",
    "a2 = int(\"%s%s\"% (a,a))\n",
    "a3 = int(\"%s%s%s\" % (a,a,a))\n",
    "print(\"The Value is:\", a1+a2+a3)"
   ]
  },
  {
   "cell_type": "code",
   "execution_count": 33,
   "id": "2c71ffa8",
   "metadata": {},
   "outputs": [
    {
     "name": "stdout",
     "output_type": "stream",
     "text": [
      "Return the absolute value of the argument.\n"
     ]
    }
   ],
   "source": [
    "print(abs.__doc__)"
   ]
  },
  {
   "cell_type": "code",
   "execution_count": 36,
   "id": "89a270ac",
   "metadata": {},
   "outputs": [
    {
     "name": "stdout",
     "output_type": "stream",
     "text": [
      "Enter the Month : 5\n",
      "Enter the Year : 2015\n",
      "      May 2015\n",
      "Mo Tu We Th Fr Sa Su\n",
      "             1  2  3\n",
      " 4  5  6  7  8  9 10\n",
      "11 12 13 14 15 16 17\n",
      "18 19 20 21 22 23 24\n",
      "25 26 27 28 29 30 31\n",
      "\n"
     ]
    }
   ],
   "source": [
    "import calendar\n",
    "m = int(input(\"Enter the Month : \"))\n",
    "y = int(input(\"Enter the Year : \"))\n",
    "print(calendar.month(y,m))"
   ]
  },
  {
   "cell_type": "code",
   "execution_count": 37,
   "id": "1e07ee78",
   "metadata": {},
   "outputs": [
    {
     "name": "stdout",
     "output_type": "stream",
     "text": [
      "\n",
      "a string that you \"don't\" have to escape\n",
      "This\n",
      "is a  ....... multi-line\n",
      "heredoc string --------> example\n",
      "\n"
     ]
    }
   ],
   "source": [
    "print(\"\"\"\n",
    "a string that you \"don't\" have to escape\n",
    "This\n",
    "is a  ....... multi-line\n",
    "heredoc string --------> example\n",
    "\"\"\")"
   ]
  },
  {
   "cell_type": "code",
   "execution_count": 39,
   "id": "62328130",
   "metadata": {},
   "outputs": [
    {
     "name": "stdout",
     "output_type": "stream",
     "text": [
      "The Different days are:  10 days, 0:00:00\n"
     ]
    }
   ],
   "source": [
    "from datetime import date\n",
    "f_date = date(2007,5,25)\n",
    "l_date = date(2007,5,15)\n",
    "print(\"The Different days are: \", f_date - l_date)"
   ]
  },
  {
   "cell_type": "code",
   "execution_count": 44,
   "id": "b2450be9",
   "metadata": {},
   "outputs": [
    {
     "name": "stdout",
     "output_type": "stream",
     "text": [
      "Enter the radius of the Sphere in meters :2.365\n",
      "\n",
      "The volume of the Sphere with readius 2.365 is 55.409221010338456 cubic meters \n"
     ]
    }
   ],
   "source": [
    "import math\n",
    "r = float(input(\"Enter the radius of the Sphere in meters :\"))\n",
    "print(\"\\nThe volume of the Sphere with readius {} is {} cubic meters \".format(r,math.pi*(4/3)*(r**3)))"
   ]
  },
  {
   "cell_type": "code",
   "execution_count": 49,
   "id": "13e7569c",
   "metadata": {},
   "outputs": [
    {
     "name": "stdout",
     "output_type": "stream",
     "text": [
      "Enter the number : 14\n",
      "\n",
      "The Difference of the Numbers is : 3.0\n"
     ]
    }
   ],
   "source": [
    "a = float(input('Enter the number : '))\n",
    "\n",
    "if a <=17:\n",
    "    print(\"\\nThe Difference of the Numbers is :\", 17-a)\n",
    "else:\n",
    "    print(\"\\nThe Required values is: \", (a-17)*2)"
   ]
  },
  {
   "cell_type": "code",
   "execution_count": 52,
   "id": "6c5b672a",
   "metadata": {},
   "outputs": [
    {
     "name": "stdout",
     "output_type": "stream",
     "text": [
      "Enter the Number : 100\n",
      "False\n"
     ]
    }
   ],
   "source": [
    "a = float(input(\"Enter the Number : \"))\n",
    "\n",
    "print(abs(1000-a) <=100 or abs(2000-a) <=100)"
   ]
  },
  {
   "cell_type": "code",
   "execution_count": 55,
   "id": "ba26b252",
   "metadata": {},
   "outputs": [
    {
     "name": "stdout",
     "output_type": "stream",
     "text": [
      "Enter the First Number:36\n",
      "Enter the Second Number:36\n",
      "Enter the Third Number:36\n",
      "The required Value is:  324.0\n"
     ]
    }
   ],
   "source": [
    "a = float(input('Enter the First Number:'))\n",
    "b = float(input('Enter the Second Number:'))\n",
    "c = float(input('Enter the Third Number:'))\n",
    "\n",
    "if a==b==c:\n",
    "    print(\"The required Value is: \", (a+b+c)*3)\n",
    "else:\n",
    "    print('The required Value is :', a+b+c)"
   ]
  },
  {
   "cell_type": "code",
   "execution_count": 57,
   "id": "9caafd1c",
   "metadata": {},
   "outputs": [
    {
     "name": "stdout",
     "output_type": "stream",
     "text": [
      "Enter the String: Isarray\n",
      "Isarray\n"
     ]
    }
   ],
   "source": [
    "a = input(\"Enter the String: \")\n",
    "if len(a)>=2 and a[:2] == \"Is\":\n",
    "    print(a)\n",
    "else:\n",
    "    print(\"Is\", a)"
   ]
  },
  {
   "cell_type": "code",
   "execution_count": 65,
   "id": "0c524397",
   "metadata": {},
   "outputs": [
    {
     "name": "stdout",
     "output_type": "stream",
     "text": [
      "Enter the String to be Copied :hai\n",
      "Enter the No. of times the given string to be copied :5\n",
      "\n",
      "haihaihaihaihai"
     ]
    }
   ],
   "source": [
    "a = input(\"Enter the String to be Copied :\")\n",
    "n = int(input('Enter the No. of times the given string to be copied :'))\n",
    "print()\n",
    "for i in range(n):\n",
    "    print(a, end = '')"
   ]
  },
  {
   "cell_type": "code",
   "execution_count": 69,
   "id": "bf471f2b",
   "metadata": {},
   "outputs": [
    {
     "name": "stdout",
     "output_type": "stream",
     "text": [
      "Enter the Number : 54\n",
      "\n",
      "The Given Number 54 is Even !!\n"
     ]
    }
   ],
   "source": [
    "a = int(input(\"Enter the Number : \"))\n",
    "if a%2 ==1:\n",
    "    print(\"\\nThe Given Number {} is odd !!\".format(a))\n",
    "else:\n",
    "     print(\"\\nThe Given Number {} is Even !!\".format(a))"
   ]
  },
  {
   "cell_type": "code",
   "execution_count": 9,
   "id": "cb456c68",
   "metadata": {},
   "outputs": [
    {
     "name": "stdout",
     "output_type": "stream",
     "text": [
      "Enter the number of Elements in a List to be appended: 10\n",
      "Enter the Element : 4\n",
      "Enter the Element : 5\n",
      "Enter the Element : 6\n",
      "Enter the Element : 5\n",
      "Enter the Element : 4\n",
      "Enter the Element : 5\n",
      "Enter the Element : 6\n",
      "Enter the Element : 5\n",
      "Enter the Element : 4\n",
      "Enter the Element : 5\n",
      "\n",
      "['4', '5', '6', '5', '4', '5', '6', '5', '4', '5']\n",
      "\n",
      "Enter the Element to be Checked : 5\n",
      "\n",
      "The Number of times the element 5 present in a list is 5 :\n"
     ]
    }
   ],
   "source": [
    "a = int(input('Enter the number of Elements in a List to be appended: '))\n",
    "l = []\n",
    "for i in range(a):\n",
    "    b = input(\"Enter the Element : \")\n",
    "    c = l.append(b)\n",
    "print()\n",
    "print(l)\n",
    "d = input('\\nEnter the Element to be Checked : ')\n",
    "count = 0\n",
    "for i in range(len(l)):\n",
    "    if l[i] == d:\n",
    "        count+=1\n",
    "print(\"\\nThe Number of times the element {} present in a list is {} :\".format(d,count)) "
   ]
  },
  {
   "cell_type": "code",
   "execution_count": 14,
   "id": "ac543f4c",
   "metadata": {},
   "outputs": [
    {
     "name": "stdout",
     "output_type": "stream",
     "text": [
      "Enter the String to be Copied :hi\n",
      "Enter the no.of times the string to be copied: 5\n",
      "The result: hihihihihi\n"
     ]
    }
   ],
   "source": [
    "a = input('Enter the String to be Copied :')\n",
    "n = int(input('Enter the no.of times the string to be copied: '))\n",
    "\n",
    "if len(a) >=2:\n",
    "        print(\"The result:\",a[:2]*n)\n",
    "else:         \n",
    "    print(\"The result: \", a*n)"
   ]
  },
  {
   "cell_type": "code",
   "execution_count": 43,
   "id": "a29cc90e",
   "metadata": {},
   "outputs": [
    {
     "name": "stdout",
     "output_type": "stream",
     "text": [
      "Enter the Letter: y\n",
      "False\n"
     ]
    }
   ],
   "source": [
    "q = input(\"Enter the Letter: \")\n",
    "def is_vowel(char):\n",
    "    all_vowels = 'aeiou'\n",
    "    return char in all_vowels\n",
    "print(is_vowel(q))"
   ]
  },
  {
   "cell_type": "code",
   "execution_count": null,
   "id": "80c8116c",
   "metadata": {},
   "outputs": [],
   "source": [
    "def is_group_member(group_data, n):\n",
    "   for value in group_data:\n",
    "       if n == value:\n",
    "           return True\n",
    "   return False\n",
    "print(is_group_member([1, 5, 8, 3], 3))\n",
    "print(is_group_member([5, 8, 3], -1))"
   ]
  }
 ],
 "metadata": {
  "kernelspec": {
   "display_name": "Python 3",
   "language": "python",
   "name": "python3"
  },
  "language_info": {
   "codemirror_mode": {
    "name": "ipython",
    "version": 3
   },
   "file_extension": ".py",
   "mimetype": "text/x-python",
   "name": "python",
   "nbconvert_exporter": "python",
   "pygments_lexer": "ipython3",
   "version": "3.8.8"
  }
 },
 "nbformat": 4,
 "nbformat_minor": 5
}
